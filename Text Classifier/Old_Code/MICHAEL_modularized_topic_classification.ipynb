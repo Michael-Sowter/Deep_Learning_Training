{
 "cells": [
  {
   "cell_type": "markdown",
   "metadata": {},
   "source": [
    "# Questions\n",
    "- What are git remotes, how do they work, how do they edit them, how do I fix mine\n",
    "- How do I push to my main branch of git\n",
    "- Follow up on CAPS question on tokenization section"
   ]
  },
  {
   "cell_type": "code",
   "execution_count": null,
   "metadata": {},
   "outputs": [],
   "source": []
  },
  {
   "cell_type": "markdown",
   "metadata": {},
   "source": [
    "# Extract raw data\n",
    "### Expected Format: \n",
    "<font color='red'>[</font>{<font color='green'>'text':</font> 'All services should have a dedicated channel for reporting fraud. We see and hear about a lot of fraud on small platforms, especially dating sights and job boards. ',\n",
    "  <font color='green'>'label':</font> 0,\n",
    "  <font color='green'>'summary':</font> 'Every service should have a dedicated reporting channel for fraud, because there is lots of fraud on a range of platforms. '}, <font color='red'>...]</font>"
   ]
  },
  {
   "cell_type": "code",
   "execution_count": 1,
   "metadata": {},
   "outputs": [
    {
     "data": {
      "text/html": [
       "<div>\n",
       "<style scoped>\n",
       "    .dataframe tbody tr th:only-of-type {\n",
       "        vertical-align: middle;\n",
       "    }\n",
       "\n",
       "    .dataframe tbody tr th {\n",
       "        vertical-align: top;\n",
       "    }\n",
       "\n",
       "    .dataframe thead th {\n",
       "        text-align: right;\n",
       "    }\n",
       "</style>\n",
       "<table border=\"1\" class=\"dataframe\">\n",
       "  <thead>\n",
       "    <tr style=\"text-align: right;\">\n",
       "      <th></th>\n",
       "      <th>label</th>\n",
       "      <th>text</th>\n",
       "    </tr>\n",
       "  </thead>\n",
       "  <tbody>\n",
       "    <tr>\n",
       "      <th>0</th>\n",
       "      <td>user reporting and complaints (u2u and search)</td>\n",
       "      <td>All services should have a dedicated channel f...</td>\n",
       "    </tr>\n",
       "    <tr>\n",
       "      <th>1</th>\n",
       "      <td>governance and accountability</td>\n",
       "      <td>This mitigation should apply to all services, ...</td>\n",
       "    </tr>\n",
       "    <tr>\n",
       "      <th>2</th>\n",
       "      <td>governance and accountability</td>\n",
       "      <td>Evidence of new kinds of illegal content on a ...</td>\n",
       "    </tr>\n",
       "    <tr>\n",
       "      <th>3</th>\n",
       "      <td>governance and accountability</td>\n",
       "      <td>A Code of Conduct or principles provided to al...</td>\n",
       "    </tr>\n",
       "    <tr>\n",
       "      <th>4</th>\n",
       "      <td>governance and accountability</td>\n",
       "      <td>Staff, in particular engineers, involved in th...</td>\n",
       "    </tr>\n",
       "    <tr>\n",
       "      <th>...</th>\n",
       "      <td>...</td>\n",
       "      <td>...</td>\n",
       "    </tr>\n",
       "    <tr>\n",
       "      <th>1890</th>\n",
       "      <td>governance and accountability</td>\n",
       "      <td>Snap asked that Ofcom consider how this measur...</td>\n",
       "    </tr>\n",
       "    <tr>\n",
       "      <th>1891</th>\n",
       "      <td>ror</td>\n",
       "      <td>Supports Ofcoms wide use of litrature to regog...</td>\n",
       "    </tr>\n",
       "    <tr>\n",
       "      <th>1892</th>\n",
       "      <td>approach  to codes</td>\n",
       "      <td>They support the use of the STIM but alongside...</td>\n",
       "    </tr>\n",
       "    <tr>\n",
       "      <th>1893</th>\n",
       "      <td>icjg</td>\n",
       "      <td>ASW should be expected to take more of a proac...</td>\n",
       "    </tr>\n",
       "    <tr>\n",
       "      <th>1894</th>\n",
       "      <td>online safety enforcement guidance</td>\n",
       "      <td>The nature of the ASW sector means that privac...</td>\n",
       "    </tr>\n",
       "  </tbody>\n",
       "</table>\n",
       "<p>1895 rows × 2 columns</p>\n",
       "</div>"
      ],
      "text/plain": [
       "                                               label  \\\n",
       "0     user reporting and complaints (u2u and search)   \n",
       "1                      governance and accountability   \n",
       "2                      governance and accountability   \n",
       "3                      governance and accountability   \n",
       "4                      governance and accountability   \n",
       "...                                              ...   \n",
       "1890                   governance and accountability   \n",
       "1891                                             ror   \n",
       "1892                              approach  to codes   \n",
       "1893                                            icjg   \n",
       "1894              online safety enforcement guidance   \n",
       "\n",
       "                                                   text  \n",
       "0     All services should have a dedicated channel f...  \n",
       "1     This mitigation should apply to all services, ...  \n",
       "2     Evidence of new kinds of illegal content on a ...  \n",
       "3     A Code of Conduct or principles provided to al...  \n",
       "4     Staff, in particular engineers, involved in th...  \n",
       "...                                                 ...  \n",
       "1890  Snap asked that Ofcom consider how this measur...  \n",
       "1891  Supports Ofcoms wide use of litrature to regog...  \n",
       "1892  They support the use of the STIM but alongside...  \n",
       "1893  ASW should be expected to take more of a proac...  \n",
       "1894  The nature of the ASW sector means that privac...  \n",
       "\n",
       "[1895 rows x 2 columns]"
      ]
     },
     "metadata": {},
     "output_type": "display_data"
    }
   ],
   "source": [
    "# MS: create training set, evaluation set and validation set\n",
    "import sys\n",
    "import pandas as pd\n",
    "import csv\n",
    "\n",
    "dataset_name = \"/home/azureuser/cloudfiles/code/Users/Omololu.Makinde/Llama_tutorial/data/consultation2.csv\"\n",
    "dataset = []\n",
    "\n",
    "with open(dataset_name, encoding='utf-8-sig') as FID:\n",
    "    csvReader = csv.DictReader(FID, delimiter=\"\\t\")\n",
    "    for key, row in enumerate(csvReader): \n",
    "        # print(key, row)\n",
    "        dataset.append({\n",
    "            \"label\" : row['Topic'].strip().lower().replace('\\n', ''),\n",
    "            \"text\" : row['Full summary of comment'],\n",
    "            \"summary\" : row['One-line summary']\n",
    "        })\n",
    "\n",
    "df_dataset = pd.DataFrame(dataset)\n",
    "df_dataset.drop(columns =['summary'], inplace=True)  # don't need this for now\n",
    "display(df_dataset)"
   ]
  },
  {
   "cell_type": "markdown",
   "metadata": {},
   "source": [
    "# Data Check"
   ]
  },
  {
   "cell_type": "code",
   "execution_count": 2,
   "metadata": {},
   "outputs": [
    {
     "data": {
      "text/plain": [
       "label\n",
       "approach to the codes                                                               468\n",
       "automated content moderation (user to user)                                         270\n",
       "governance and accountability                                                       228\n",
       "user reporting and complaints (u2u and search)                                      140\n",
       "content moderation (user to user)                                                   128\n",
       "user access to services (u2u)                                                       111\n",
       "enhanced user control (u2u)                                                         101\n",
       "default settings and user support (u2u)                                              89\n",
       "cumulative assessment                                                                76\n",
       "terms of service and publicly available statements                                   60\n",
       "recommender system testing (u2u)                                                     59\n",
       "content moderation (search)                                                          52\n",
       "service design and user support (search)                                             30\n",
       "automated content moderation (search)                                                25\n",
       "statutory tests                                                                      22\n",
       "                                                                                      6\n",
       "default settings and user support for child users (u2u)                               6\n",
       "n/a                                                                                   5\n",
       "our approach to the codes                                                             4\n",
       "record keeping and review guidance                                                    3\n",
       "default settings and user support (u2u) and user support (u2u)                        2\n",
       "acm automated content moderation (search)                                             2\n",
       "content moderation (user to user) and content moderation (search)                     2\n",
       "automated content moderation (user to user)automated content moderation (search)      1\n",
       "user reporting and complaints                                                         1\n",
       "ror                                                                                   1\n",
       "approach  to codes                                                                    1\n",
       "icjg                                                                                  1\n",
       "online safety enforcement guidance                                                    1\n",
       "Name: count, dtype: int64"
      ]
     },
     "execution_count": 2,
     "metadata": {},
     "output_type": "execute_result"
    }
   ],
   "source": [
    "df_dataset_count = df_dataset['label'].value_counts()\n",
    "df_dataset['label'].value_counts()"
   ]
  },
  {
   "cell_type": "code",
   "execution_count": 3,
   "metadata": {},
   "outputs": [
    {
     "data": {
      "text/plain": [
       "label\n",
       "approach to the codes                                 468\n",
       "automated content moderation (user to user)           270\n",
       "governance and accountability                         228\n",
       "user reporting and complaints (u2u and search)        140\n",
       "content moderation (user to user)                     128\n",
       "user access to services (u2u)                         111\n",
       "enhanced user control (u2u)                           101\n",
       "default settings and user support (u2u)                89\n",
       "cumulative assessment                                  76\n",
       "terms of service and publicly available statements     60\n",
       "recommender system testing (u2u)                       59\n",
       "content moderation (search)                            52\n",
       "service design and user support (search)               30\n",
       "automated content moderation (search)                  25\n",
       "statutory tests                                        22\n",
       "Name: count, dtype: int64"
      ]
     },
     "metadata": {},
     "output_type": "display_data"
    }
   ],
   "source": [
    "keep_rows = list(df_dataset_count[df_dataset_count > 10].index)\n",
    "df_dataset = df_dataset[df_dataset['label'].isin(keep_rows)]\n",
    "display(df_dataset['label'].value_counts())"
   ]
  },
  {
   "cell_type": "markdown",
   "metadata": {},
   "source": [
    "# Convert labels to binary classifier format\n",
    "- 'governance and accountability' = 1, everything else = 0\n",
    "\n",
    "Note data set heavily imbalanced so accuracy would be a poor metric of evaluating our model (in its current state)"
   ]
  },
  {
   "cell_type": "code",
   "execution_count": 4,
   "metadata": {},
   "outputs": [
    {
     "data": {
      "text/plain": [
       "label\n",
       "0    1631\n",
       "1     228\n",
       "Name: count, dtype: int64"
      ]
     },
     "execution_count": 4,
     "metadata": {},
     "output_type": "execute_result"
    }
   ],
   "source": [
    "import numpy as np\n",
    "\n",
    "# add in our classifier labels\n",
    "topic = 'governance and accountability'\n",
    "df_dataset['label'] = np.where(np.array(df_dataset['label']) == topic, 1, 0)\n",
    "df_dataset['label'].value_counts(normalize=False)"
   ]
  },
  {
   "cell_type": "markdown",
   "metadata": {},
   "source": [
    "# Extract Evaluation Set"
   ]
  },
  {
   "cell_type": "code",
   "execution_count": 5,
   "metadata": {},
   "outputs": [
    {
     "data": {
      "text/html": [
       "<div>\n",
       "<style scoped>\n",
       "    .dataframe tbody tr th:only-of-type {\n",
       "        vertical-align: middle;\n",
       "    }\n",
       "\n",
       "    .dataframe tbody tr th {\n",
       "        vertical-align: top;\n",
       "    }\n",
       "\n",
       "    .dataframe thead th {\n",
       "        text-align: right;\n",
       "    }\n",
       "</style>\n",
       "<table border=\"1\" class=\"dataframe\">\n",
       "  <thead>\n",
       "    <tr style=\"text-align: right;\">\n",
       "      <th></th>\n",
       "      <th>label</th>\n",
       "      <th>text</th>\n",
       "    </tr>\n",
       "  </thead>\n",
       "  <tbody>\n",
       "    <tr>\n",
       "      <th>792</th>\n",
       "      <td>0</td>\n",
       "      <td>Match Group agrees with Ofcom’s proposal that ...</td>\n",
       "    </tr>\n",
       "    <tr>\n",
       "      <th>88</th>\n",
       "      <td>0</td>\n",
       "      <td>Response: We agree with Ofcom that given the d...</td>\n",
       "    </tr>\n",
       "    <tr>\n",
       "      <th>1151</th>\n",
       "      <td>0</td>\n",
       "      <td>If Ofcom is unwilling to apply a blanket thres...</td>\n",
       "    </tr>\n",
       "    <tr>\n",
       "      <th>341</th>\n",
       "      <td>0</td>\n",
       "      <td>Satisfied with the proposal for the most onero...</td>\n",
       "    </tr>\n",
       "    <tr>\n",
       "      <th>96</th>\n",
       "      <td>0</td>\n",
       "      <td>We encourage close coordination between the EU...</td>\n",
       "    </tr>\n",
       "    <tr>\n",
       "      <th>...</th>\n",
       "      <td>...</td>\n",
       "      <td>...</td>\n",
       "    </tr>\n",
       "    <tr>\n",
       "      <th>340</th>\n",
       "      <td>1</td>\n",
       "      <td>We believe that organisations, in addition to ...</td>\n",
       "    </tr>\n",
       "    <tr>\n",
       "      <th>1234</th>\n",
       "      <td>1</td>\n",
       "      <td>Ofcoms proposals are proportionate</td>\n",
       "    </tr>\n",
       "    <tr>\n",
       "      <th>460</th>\n",
       "      <td>1</td>\n",
       "      <td>Services are required to track new and increas...</td>\n",
       "    </tr>\n",
       "    <tr>\n",
       "      <th>894</th>\n",
       "      <td>1</td>\n",
       "      <td>The suggestion is that the proposal risks forc...</td>\n",
       "    </tr>\n",
       "    <tr>\n",
       "      <th>258</th>\n",
       "      <td>1</td>\n",
       "      <td>As well as external audits being a disproporti...</td>\n",
       "    </tr>\n",
       "  </tbody>\n",
       "</table>\n",
       "<p>456 rows × 2 columns</p>\n",
       "</div>"
      ],
      "text/plain": [
       "      label                                               text\n",
       "792       0  Match Group agrees with Ofcom’s proposal that ...\n",
       "88        0  Response: We agree with Ofcom that given the d...\n",
       "1151      0  If Ofcom is unwilling to apply a blanket thres...\n",
       "341       0  Satisfied with the proposal for the most onero...\n",
       "96        0  We encourage close coordination between the EU...\n",
       "...     ...                                                ...\n",
       "340       1  We believe that organisations, in addition to ...\n",
       "1234      1                 Ofcoms proposals are proportionate\n",
       "460       1  Services are required to track new and increas...\n",
       "894       1  The suggestion is that the proposal risks forc...\n",
       "258       1  As well as external audits being a disproporti...\n",
       "\n",
       "[456 rows x 2 columns]"
      ]
     },
     "metadata": {},
     "output_type": "display_data"
    },
    {
     "data": {
      "text/html": [
       "<div>\n",
       "<style scoped>\n",
       "    .dataframe tbody tr th:only-of-type {\n",
       "        vertical-align: middle;\n",
       "    }\n",
       "\n",
       "    .dataframe tbody tr th {\n",
       "        vertical-align: top;\n",
       "    }\n",
       "\n",
       "    .dataframe thead th {\n",
       "        text-align: right;\n",
       "    }\n",
       "</style>\n",
       "<table border=\"1\" class=\"dataframe\">\n",
       "  <thead>\n",
       "    <tr style=\"text-align: right;\">\n",
       "      <th></th>\n",
       "      <th>label</th>\n",
       "      <th>text</th>\n",
       "    </tr>\n",
       "  </thead>\n",
       "  <tbody>\n",
       "    <tr>\n",
       "      <th>0</th>\n",
       "      <td>0</td>\n",
       "      <td>All services should have a dedicated channel f...</td>\n",
       "    </tr>\n",
       "    <tr>\n",
       "      <th>7</th>\n",
       "      <td>0</td>\n",
       "      <td>When prioritising what content to review, rega...</td>\n",
       "    </tr>\n",
       "    <tr>\n",
       "      <th>8</th>\n",
       "      <td>0</td>\n",
       "      <td>(Disagree). As noted before, \"there should be ...</td>\n",
       "    </tr>\n",
       "    <tr>\n",
       "      <th>12</th>\n",
       "      <td>0</td>\n",
       "      <td>The RSPCA agrees that the most onerous measure...</td>\n",
       "    </tr>\n",
       "    <tr>\n",
       "      <th>13</th>\n",
       "      <td>0</td>\n",
       "      <td>The RSPCA agrees that the most onerous measure...</td>\n",
       "    </tr>\n",
       "    <tr>\n",
       "      <th>...</th>\n",
       "      <td>...</td>\n",
       "      <td>...</td>\n",
       "    </tr>\n",
       "    <tr>\n",
       "      <th>1880</th>\n",
       "      <td>0</td>\n",
       "      <td>We apply account blocks based on signals inclu...</td>\n",
       "    </tr>\n",
       "    <tr>\n",
       "      <th>1881</th>\n",
       "      <td>0</td>\n",
       "      <td>It is Snap’s practice to generally apply accou...</td>\n",
       "    </tr>\n",
       "    <tr>\n",
       "      <th>1883</th>\n",
       "      <td>0</td>\n",
       "      <td>We would stress that this issue is not easily,...</td>\n",
       "    </tr>\n",
       "    <tr>\n",
       "      <th>1884</th>\n",
       "      <td>0</td>\n",
       "      <td>Notwithstanding an appeal being successful and...</td>\n",
       "    </tr>\n",
       "    <tr>\n",
       "      <th>1885</th>\n",
       "      <td>0</td>\n",
       "      <td>Snap and other platforms utilise hash matching...</td>\n",
       "    </tr>\n",
       "  </tbody>\n",
       "</table>\n",
       "<p>1403 rows × 2 columns</p>\n",
       "</div>"
      ],
      "text/plain": [
       "      label                                               text\n",
       "0         0  All services should have a dedicated channel f...\n",
       "7         0  When prioritising what content to review, rega...\n",
       "8         0  (Disagree). As noted before, \"there should be ...\n",
       "12        0  The RSPCA agrees that the most onerous measure...\n",
       "13        0  The RSPCA agrees that the most onerous measure...\n",
       "...     ...                                                ...\n",
       "1880      0  We apply account blocks based on signals inclu...\n",
       "1881      0  It is Snap’s practice to generally apply accou...\n",
       "1883      0  We would stress that this issue is not easily,...\n",
       "1884      0  Notwithstanding an appeal being successful and...\n",
       "1885      0  Snap and other platforms utilise hash matching...\n",
       "\n",
       "[1403 rows x 2 columns]"
      ]
     },
     "execution_count": 5,
     "metadata": {},
     "output_type": "execute_result"
    }
   ],
   "source": [
    "# train and test data\n",
    "class_len = len(df_dataset[df_dataset['label'] == 1])  # find how many values we can take and still have a balanced class\n",
    "class_0_data = df_dataset[df_dataset.label.eq(0)].sample(class_len) \n",
    "class_1_data = df_dataset[df_dataset.label.eq(1)].sample(class_len)\n",
    "train_test_data = pd.concat([class_0_data, class_1_data])  # 50/50 class split\n",
    "display(train_test_data)\n",
    "\n",
    "# evaluation data\n",
    "eval_data = df_dataset.drop(train_test_data.index)  # put the rest into an evaluation set we can play with\n",
    "eval_data"
   ]
  },
  {
   "cell_type": "markdown",
   "metadata": {},
   "source": [
    "# Transform data to usable version for huggingface model\n",
    "\n",
    "### Using distilbert base uncased model\n",
    "- BERT = is an LLM (large language model)\n",
    "- distil = smaller model with most of the same power as a normal bert model\n",
    "- base = not much tweaking or tuning done yet\n",
    "- uncased = captilised letters make no difference i.e. england = EnglaND (Note: probably want to still consider this in case we change to an cased model)\n",
    "\n",
    "### Tokenizing our data using our base model\n",
    "- Tokenizing is breaking our data up into smaller parts for our model to read (note that tokens are always just words but can be special chars or subwords)\n",
    "- Embedding (not used for this model) take individual token and turning it into a more computer friendly format through transforming it into a hidden multi-dimensional-numeric format e.g. cat -> (12, 45))\n",
    "- Work from huggingface dataset \n",
    "- Only want to tokenize our text\n",
    "- Pad using special characters (adds length up to the min tensor value) the values if necessary\n",
    "- Truncate (shortens to the max tensor value) the values if necessary (up to max length)"
   ]
  },
  {
   "cell_type": "code",
   "execution_count": 6,
   "metadata": {},
   "outputs": [
    {
     "name": "stderr",
     "output_type": "stream",
     "text": [
      "/anaconda/envs/llm_parser/lib/python3.12/site-packages/tqdm/auto.py:21: TqdmWarning: IProgress not found. Please update jupyter and ipywidgets. See https://ipywidgets.readthedocs.io/en/stable/user_install.html\n",
      "  from .autonotebook import tqdm as notebook_tqdm\n",
      "Map: 100%|██████████████████████████████████████████████████████████████████████████████████████████████████████████████████████████████████████████████████████████████████████████████████████████████████████████████████████████████████████████████████████████████████████████████████████████████████████████████████████████████████████████████████████████████████████████████████████████████████████████████████████████████████████████████████████████████████████████████████████████████████████████████████████████████████████████████████████████████████████████████████████████████████████████████████████████████████████████████████████████████████████████████████████████████████████████████████████████████████████████████████████████████████████████████████████████████████████████████████████████████████████████████████████████████████████████████████████████████████████████████████████████████████████████████████████████████████████████████████| 456/456 [00:00<00:00, 4192.69 examples/s]"
     ]
    },
    {
     "name": "stdout",
     "output_type": "stream",
     "text": [
      "DatasetDict({\n",
      "    train: Dataset({\n",
      "        features: ['label', 'text', 'input_ids', 'attention_mask'],\n",
      "        num_rows: 410\n",
      "    })\n",
      "    test: Dataset({\n",
      "        features: ['label', 'text', 'input_ids', 'attention_mask'],\n",
      "        num_rows: 46\n",
      "    })\n",
      "})\n"
     ]
    },
    {
     "name": "stderr",
     "output_type": "stream",
     "text": [
      "\n"
     ]
    }
   ],
   "source": [
    "from datasets import Dataset\n",
    "from transformers import AutoTokenizer\n",
    "\n",
    "huggingface_data = Dataset.from_pandas(train_test_data, preserve_index=False)  # don't include pandas index\n",
    "\n",
    "pretrained_model_name = \"distilbert/distilbert-base-uncased\"  # This is our base model\n",
    "\n",
    "tokenizer = AutoTokenizer.from_pretrained(pretrained_model_name)\n",
    "def proc_data(data):\n",
    "    return tokenizer(data['text'], max_length=512, padding=True, truncation=True)\n",
    "\n",
    "tokenized_data = huggingface_data.map(proc_data, batched=True)  # advantage of \".map\" is we can parallel process data in batches (i think)\n",
    "# print(tokenized_data['text'] == huggingface_data['text'])  # SHOULDN'T THIS NOT BE TRUE??? ESPECIALLY IF I CHANGE MAX_LENGTH TO BE 1 OR SOMETHING\n",
    "\n",
    "split_tokenized_hugginface_data = tokenized_data.train_test_split(test_size=0.10)  # 85/15 train/test split\n",
    "print(split_tokenized_hugginface_data)"
   ]
  },
  {
   "cell_type": "markdown",
   "metadata": {},
   "source": [
    "# Train model\n",
    "- 1 = \"Positive\" -> the model is predicting that the input CAN be caterogirsed by our input topic\n",
    "- 0 = \"Negative\" -> the model is predicting that the input can NOT be caterogirsed by our input topic\n",
    "\n",
    "Instead of doing evaluate.load(metric), can load several metrics using accuracy.combine([metric1, metric2, ...])\n",
    "\n",
    "Note:\n",
    "- Just reducing test set size from 15% to 10% had about 10% improvement on accuracy\n",
    "- Use <font color='green'>\".select(range(X))\"</font> in place of <font color='green'>\"[:X]\"</font>. Measurable increase in accuracy from just 50 more sample but still decent accuracy and improvements without much training data"
   ]
  },
  {
   "cell_type": "code",
   "execution_count": 7,
   "metadata": {},
   "outputs": [],
   "source": [
    "import os\n",
    "import shutil\n",
    "\n",
    "def clear_folder_except(folder_path, exclude_folder):\n",
    "    # Iterate over the items in the directory\n",
    "    for item_name in os.listdir(folder_path):\n",
    "        item_path = os.path.join(folder_path, item_name)\n",
    "        # Skip the exclude folder\n",
    "        if item_name == exclude_folder:\n",
    "            continue\n",
    "        # Check if the item is a directory\n",
    "        if os.path.isdir(item_path):\n",
    "            # If it is a directory, remove it and its contents\n",
    "            shutil.rmtree(item_path)\n",
    "        else:\n",
    "            # If it is a file, remove it\n",
    "            os.remove(item_path)"
   ]
  },
  {
   "cell_type": "code",
   "execution_count": 96,
   "metadata": {},
   "outputs": [
    {
     "name": "stderr",
     "output_type": "stream",
     "text": [
      "Some weights of DistilBertForSequenceClassification were not initialized from the model checkpoint at distilbert/distilbert-base-uncased and are newly initialized: ['classifier.bias', 'classifier.weight', 'pre_classifier.bias', 'pre_classifier.weight']\n",
      "You should probably TRAIN this model on a down-stream task to be able to use it for predictions and inference.\n",
      "/anaconda/envs/llm_parser/lib/python3.12/site-packages/accelerate/accelerator.py:436: FutureWarning: Passing the following arguments to `Accelerator` is deprecated and will be removed in version 1.0 of Accelerate: dict_keys(['dispatch_batches', 'split_batches', 'even_batches', 'use_seedable_sampler']). Please pass an `accelerate.DataLoaderConfiguration` instead: \n",
      "dataloader_config = DataLoaderConfiguration(dispatch_batches=None, split_batches=False, even_batches=True, use_seedable_sampler=True)\n",
      "  warnings.warn(\n"
     ]
    },
    {
     "data": {
      "text/html": [
       "\n",
       "    <div>\n",
       "      \n",
       "      <progress value='520' max='520' style='width:300px; height:20px; vertical-align: middle;'></progress>\n",
       "      [520/520 04:18, Epoch 20/20]\n",
       "    </div>\n",
       "    <table border=\"1\" class=\"dataframe\">\n",
       "  <thead>\n",
       " <tr style=\"text-align: left;\">\n",
       "      <th>Epoch</th>\n",
       "      <th>Training Loss</th>\n",
       "      <th>Validation Loss</th>\n",
       "      <th>Accuracy</th>\n",
       "      <th>F1</th>\n",
       "      <th>Precision</th>\n",
       "      <th>Recall</th>\n",
       "    </tr>\n",
       "  </thead>\n",
       "  <tbody>\n",
       "    <tr>\n",
       "      <td>1</td>\n",
       "      <td>No log</td>\n",
       "      <td>0.556641</td>\n",
       "      <td>0.739130</td>\n",
       "      <td>0.785714</td>\n",
       "      <td>0.758621</td>\n",
       "      <td>0.814815</td>\n",
       "    </tr>\n",
       "    <tr>\n",
       "      <td>2</td>\n",
       "      <td>No log</td>\n",
       "      <td>0.473339</td>\n",
       "      <td>0.782609</td>\n",
       "      <td>0.807692</td>\n",
       "      <td>0.840000</td>\n",
       "      <td>0.777778</td>\n",
       "    </tr>\n",
       "    <tr>\n",
       "      <td>3</td>\n",
       "      <td>No log</td>\n",
       "      <td>0.476721</td>\n",
       "      <td>0.804348</td>\n",
       "      <td>0.836364</td>\n",
       "      <td>0.821429</td>\n",
       "      <td>0.851852</td>\n",
       "    </tr>\n",
       "    <tr>\n",
       "      <td>4</td>\n",
       "      <td>No log</td>\n",
       "      <td>0.587035</td>\n",
       "      <td>0.782609</td>\n",
       "      <td>0.814815</td>\n",
       "      <td>0.814815</td>\n",
       "      <td>0.814815</td>\n",
       "    </tr>\n",
       "    <tr>\n",
       "      <td>5</td>\n",
       "      <td>No log</td>\n",
       "      <td>0.683818</td>\n",
       "      <td>0.804348</td>\n",
       "      <td>0.830189</td>\n",
       "      <td>0.846154</td>\n",
       "      <td>0.814815</td>\n",
       "    </tr>\n",
       "    <tr>\n",
       "      <td>6</td>\n",
       "      <td>No log</td>\n",
       "      <td>0.758435</td>\n",
       "      <td>0.782609</td>\n",
       "      <td>0.821429</td>\n",
       "      <td>0.793103</td>\n",
       "      <td>0.851852</td>\n",
       "    </tr>\n",
       "    <tr>\n",
       "      <td>7</td>\n",
       "      <td>No log</td>\n",
       "      <td>0.769559</td>\n",
       "      <td>0.826087</td>\n",
       "      <td>0.851852</td>\n",
       "      <td>0.851852</td>\n",
       "      <td>0.851852</td>\n",
       "    </tr>\n",
       "    <tr>\n",
       "      <td>8</td>\n",
       "      <td>No log</td>\n",
       "      <td>0.860448</td>\n",
       "      <td>0.826087</td>\n",
       "      <td>0.846154</td>\n",
       "      <td>0.880000</td>\n",
       "      <td>0.814815</td>\n",
       "    </tr>\n",
       "    <tr>\n",
       "      <td>9</td>\n",
       "      <td>No log</td>\n",
       "      <td>0.911120</td>\n",
       "      <td>0.760870</td>\n",
       "      <td>0.807018</td>\n",
       "      <td>0.766667</td>\n",
       "      <td>0.851852</td>\n",
       "    </tr>\n",
       "    <tr>\n",
       "      <td>10</td>\n",
       "      <td>No log</td>\n",
       "      <td>0.945182</td>\n",
       "      <td>0.760870</td>\n",
       "      <td>0.807018</td>\n",
       "      <td>0.766667</td>\n",
       "      <td>0.851852</td>\n",
       "    </tr>\n",
       "    <tr>\n",
       "      <td>11</td>\n",
       "      <td>No log</td>\n",
       "      <td>1.039712</td>\n",
       "      <td>0.760870</td>\n",
       "      <td>0.807018</td>\n",
       "      <td>0.766667</td>\n",
       "      <td>0.851852</td>\n",
       "    </tr>\n",
       "    <tr>\n",
       "      <td>12</td>\n",
       "      <td>No log</td>\n",
       "      <td>1.054663</td>\n",
       "      <td>0.760870</td>\n",
       "      <td>0.807018</td>\n",
       "      <td>0.766667</td>\n",
       "      <td>0.851852</td>\n",
       "    </tr>\n",
       "    <tr>\n",
       "      <td>13</td>\n",
       "      <td>No log</td>\n",
       "      <td>1.106966</td>\n",
       "      <td>0.739130</td>\n",
       "      <td>0.793103</td>\n",
       "      <td>0.741935</td>\n",
       "      <td>0.851852</td>\n",
       "    </tr>\n",
       "    <tr>\n",
       "      <td>14</td>\n",
       "      <td>No log</td>\n",
       "      <td>1.119278</td>\n",
       "      <td>0.739130</td>\n",
       "      <td>0.793103</td>\n",
       "      <td>0.741935</td>\n",
       "      <td>0.851852</td>\n",
       "    </tr>\n",
       "    <tr>\n",
       "      <td>15</td>\n",
       "      <td>No log</td>\n",
       "      <td>1.119921</td>\n",
       "      <td>0.739130</td>\n",
       "      <td>0.793103</td>\n",
       "      <td>0.741935</td>\n",
       "      <td>0.851852</td>\n",
       "    </tr>\n",
       "    <tr>\n",
       "      <td>16</td>\n",
       "      <td>No log</td>\n",
       "      <td>1.138706</td>\n",
       "      <td>0.739130</td>\n",
       "      <td>0.793103</td>\n",
       "      <td>0.741935</td>\n",
       "      <td>0.851852</td>\n",
       "    </tr>\n",
       "    <tr>\n",
       "      <td>17</td>\n",
       "      <td>No log</td>\n",
       "      <td>1.147509</td>\n",
       "      <td>0.739130</td>\n",
       "      <td>0.793103</td>\n",
       "      <td>0.741935</td>\n",
       "      <td>0.851852</td>\n",
       "    </tr>\n",
       "    <tr>\n",
       "      <td>18</td>\n",
       "      <td>No log</td>\n",
       "      <td>1.166913</td>\n",
       "      <td>0.739130</td>\n",
       "      <td>0.793103</td>\n",
       "      <td>0.741935</td>\n",
       "      <td>0.851852</td>\n",
       "    </tr>\n",
       "    <tr>\n",
       "      <td>19</td>\n",
       "      <td>No log</td>\n",
       "      <td>1.177939</td>\n",
       "      <td>0.739130</td>\n",
       "      <td>0.793103</td>\n",
       "      <td>0.741935</td>\n",
       "      <td>0.851852</td>\n",
       "    </tr>\n",
       "    <tr>\n",
       "      <td>20</td>\n",
       "      <td>0.108600</td>\n",
       "      <td>1.176125</td>\n",
       "      <td>0.739130</td>\n",
       "      <td>0.793103</td>\n",
       "      <td>0.741935</td>\n",
       "      <td>0.851852</td>\n",
       "    </tr>\n",
       "  </tbody>\n",
       "</table><p>"
      ],
      "text/plain": [
       "<IPython.core.display.HTML object>"
      ]
     },
     "metadata": {},
     "output_type": "display_data"
    },
    {
     "name": "stderr",
     "output_type": "stream",
     "text": [
      "Checkpoint destination directory /home/azureuser/cloudfiles/code/Users/Michael.Sowter/Deep_Learning_Training/Text Classifier/Models/Mod_1/checkpoint-26 already exists and is non-empty. Saving will proceed but saved results may be invalid.\n",
      "Checkpoint destination directory /home/azureuser/cloudfiles/code/Users/Michael.Sowter/Deep_Learning_Training/Text Classifier/Models/Mod_1/checkpoint-52 already exists and is non-empty. Saving will proceed but saved results may be invalid.\n",
      "Checkpoint destination directory /home/azureuser/cloudfiles/code/Users/Michael.Sowter/Deep_Learning_Training/Text Classifier/Models/Mod_1/checkpoint-78 already exists and is non-empty. Saving will proceed but saved results may be invalid.\n",
      "Checkpoint destination directory /home/azureuser/cloudfiles/code/Users/Michael.Sowter/Deep_Learning_Training/Text Classifier/Models/Mod_1/checkpoint-104 already exists and is non-empty. Saving will proceed but saved results may be invalid.\n",
      "Checkpoint destination directory /home/azureuser/cloudfiles/code/Users/Michael.Sowter/Deep_Learning_Training/Text Classifier/Models/Mod_1/checkpoint-130 already exists and is non-empty. Saving will proceed but saved results may be invalid.\n",
      "Checkpoint destination directory /home/azureuser/cloudfiles/code/Users/Michael.Sowter/Deep_Learning_Training/Text Classifier/Models/Mod_1/checkpoint-156 already exists and is non-empty. Saving will proceed but saved results may be invalid.\n",
      "Checkpoint destination directory /home/azureuser/cloudfiles/code/Users/Michael.Sowter/Deep_Learning_Training/Text Classifier/Models/Mod_1/checkpoint-182 already exists and is non-empty. Saving will proceed but saved results may be invalid.\n",
      "Checkpoint destination directory /home/azureuser/cloudfiles/code/Users/Michael.Sowter/Deep_Learning_Training/Text Classifier/Models/Mod_1/checkpoint-208 already exists and is non-empty. Saving will proceed but saved results may be invalid.\n",
      "Checkpoint destination directory /home/azureuser/cloudfiles/code/Users/Michael.Sowter/Deep_Learning_Training/Text Classifier/Models/Mod_1/checkpoint-234 already exists and is non-empty. Saving will proceed but saved results may be invalid.\n",
      "Checkpoint destination directory /home/azureuser/cloudfiles/code/Users/Michael.Sowter/Deep_Learning_Training/Text Classifier/Models/Mod_1/checkpoint-260 already exists and is non-empty. Saving will proceed but saved results may be invalid.\n",
      "Checkpoint destination directory /home/azureuser/cloudfiles/code/Users/Michael.Sowter/Deep_Learning_Training/Text Classifier/Models/Mod_1/checkpoint-286 already exists and is non-empty. Saving will proceed but saved results may be invalid.\n",
      "Checkpoint destination directory /home/azureuser/cloudfiles/code/Users/Michael.Sowter/Deep_Learning_Training/Text Classifier/Models/Mod_1/checkpoint-312 already exists and is non-empty. Saving will proceed but saved results may be invalid.\n",
      "Checkpoint destination directory /home/azureuser/cloudfiles/code/Users/Michael.Sowter/Deep_Learning_Training/Text Classifier/Models/Mod_1/checkpoint-338 already exists and is non-empty. Saving will proceed but saved results may be invalid.\n",
      "Checkpoint destination directory /home/azureuser/cloudfiles/code/Users/Michael.Sowter/Deep_Learning_Training/Text Classifier/Models/Mod_1/checkpoint-364 already exists and is non-empty. Saving will proceed but saved results may be invalid.\n",
      "Checkpoint destination directory /home/azureuser/cloudfiles/code/Users/Michael.Sowter/Deep_Learning_Training/Text Classifier/Models/Mod_1/checkpoint-390 already exists and is non-empty. Saving will proceed but saved results may be invalid.\n",
      "Checkpoint destination directory /home/azureuser/cloudfiles/code/Users/Michael.Sowter/Deep_Learning_Training/Text Classifier/Models/Mod_1/checkpoint-416 already exists and is non-empty. Saving will proceed but saved results may be invalid.\n",
      "Checkpoint destination directory /home/azureuser/cloudfiles/code/Users/Michael.Sowter/Deep_Learning_Training/Text Classifier/Models/Mod_1/checkpoint-442 already exists and is non-empty. Saving will proceed but saved results may be invalid.\n",
      "Checkpoint destination directory /home/azureuser/cloudfiles/code/Users/Michael.Sowter/Deep_Learning_Training/Text Classifier/Models/Mod_1/checkpoint-468 already exists and is non-empty. Saving will proceed but saved results may be invalid.\n",
      "Checkpoint destination directory /home/azureuser/cloudfiles/code/Users/Michael.Sowter/Deep_Learning_Training/Text Classifier/Models/Mod_1/checkpoint-494 already exists and is non-empty. Saving will proceed but saved results may be invalid.\n",
      "Checkpoint destination directory /home/azureuser/cloudfiles/code/Users/Michael.Sowter/Deep_Learning_Training/Text Classifier/Models/Mod_1/checkpoint-520 already exists and is non-empty. Saving will proceed but saved results may be invalid.\n"
     ]
    }
   ],
   "source": [
    "# -HOT FIX TO STOP MODEL TRAINING BREAKING----------------------------------------------------------------------------------------------------------- #\n",
    "model_output_path = \"/home/azureuser/cloudfiles/code/Users/Michael.Sowter/Deep_Learning_Training/Text Classifier/Models/Mod_1\"\n",
    "# clear_folder_except(model_output_path, \"runs\")\n",
    "# --------------------------------------------------------------------------------------------------------------------------------------------------- #\n",
    "\n",
    "\n",
    "from transformers import AutoModelForSequenceClassification, TrainingArguments, Trainer, EarlyStoppingCallback\n",
    "from transformers import DataCollatorWithPadding\n",
    "import evaluate\n",
    "\n",
    "\n",
    "# Select accuracy metric\n",
    "evaluation_metrics = [\"accuracy\", \"f1\", \"precision\", \"recall\"]\n",
    "accuracy = evaluate.combine(evaluation_metrics)# evaluate.load(\"accuracy\")\n",
    "\n",
    "# Use accuracy to determine which class is the most likely prediction\n",
    "def compute_metrics(eval_pred):\n",
    "    predictions, labels = eval_pred  # get predictions and labels\n",
    "    predictions = np.argmax(predictions, axis=1)  # calculate highest probability class (negative or positive sentiment)\n",
    "    return accuracy.compute(predictions=predictions, references=labels)\n",
    "\n",
    "data_collator = DataCollatorWithPadding(tokenizer=tokenizer)\n",
    "\n",
    "id2label = {0: \"Negative\", 1: \"Positive\"}\n",
    "label2id = {\"Negative\": 0, \"Positive\": 1}\n",
    "\n",
    "\n",
    "model = AutoModelForSequenceClassification.from_pretrained(pretrained_model_name,\n",
    "                                                            id2label=id2label,\n",
    "                                                            label2id=label2id)\n",
    "\n",
    "# How we input training arguments into the model\n",
    "\n",
    "training_args = TrainingArguments(\n",
    "    output_dir=model_output_path,  # path model stored\n",
    "    learning_rate=2e-5,\n",
    "    per_device_train_batch_size=16,\n",
    "    per_device_eval_batch_size=16,\n",
    "    num_train_epochs=20,\n",
    "    weight_decay=0.01,\n",
    "    evaluation_strategy=\"epoch\",\n",
    "    save_strategy=\"epoch\",\n",
    "    load_best_model_at_end=True,\n",
    "    push_to_hub=False,\n",
    "    # logging_steps= 25 # logs made every X batches. So smaller log means more information recorded (see log in table but also more computational and memory requirements)\n",
    "    )\n",
    "\n",
    "\n",
    "# Model training arguments\n",
    "trainer = Trainer(\n",
    "    model=model,\n",
    "    args=training_args,\n",
    "    train_dataset=split_tokenized_hugginface_data[\"train\"],#.select(range(200)),\n",
    "    eval_dataset=split_tokenized_hugginface_data[\"test\"],\n",
    "    tokenizer=tokenizer,\n",
    "    data_collator=data_collator,\n",
    "    compute_metrics=compute_metrics,\n",
    "    # callbacks=[EarlyStoppingCallback(early_stopping_patience=5)]  # Stop training if no improvement after 3 consecutive epochs\n",
    "\n",
    ")\n",
    "\n",
    "# Train model\n",
    "results = trainer.train()\n",
    "\n",
    "trainer.save_model(\"/home/azureuser/cloudfiles/code/Users/Michael.Sowter/Deep_Learning_Training/Text Classifier/Models/Mod_1/Best\")"
   ]
  },
  {
   "cell_type": "code",
   "execution_count": 100,
   "metadata": {},
   "outputs": [
    {
     "name": "stdout",
     "output_type": "stream",
     "text": [
      "['__add__', '__annotations__', '__class__', '__class_getitem__', '__contains__', '__delattr__', '__dir__', '__doc__', '__eq__', '__format__', '__ge__', '__getattribute__', '__getitem__', '__getnewargs__', '__getstate__', '__gt__', '__hash__', '__init__', '__init_subclass__', '__iter__', '__le__', '__len__', '__lt__', '__match_args__', '__module__', '__mul__', '__ne__', '__new__', '__orig_bases__', '__reduce__', '__reduce_ex__', '__repr__', '__rmul__', '__setattr__', '__sizeof__', '__slots__', '__str__', '__subclasshook__', '_asdict', '_field_defaults', '_fields', '_make', '_replace', 'count', 'global_step', 'index', 'metrics', 'training_loss']\n",
      "0.10541266168539341\n",
      "TrainOutput(global_step=520, training_loss=0.10541266168539341, metrics={'train_runtime': 258.9343, 'train_samples_per_second': 31.668, 'train_steps_per_second': 2.008, 'total_flos': 1086232668979200.0, 'train_loss': 0.10541266168539341, 'epoch': 20.0})\n"
     ]
    }
   ],
   "source": [
    "print(dir(results))\n",
    "print(results.training_loss)\n",
    "print(results)"
   ]
  },
  {
   "cell_type": "code",
   "execution_count": 94,
   "metadata": {},
   "outputs": [
    {
     "ename": "ValueError",
     "evalue": "Please specify a valid `data` object - either a `str` with a name or a `Dataset` object.",
     "output_type": "error",
     "traceback": [
      "\u001b[0;31m---------------------------------------------------------------------------\u001b[0m",
      "\u001b[0;31mValueError\u001b[0m                                Traceback (most recent call last)",
      "Cell \u001b[0;32mIn[94], line 3\u001b[0m\n\u001b[1;32m      1\u001b[0m \u001b[38;5;28;01mfrom\u001b[39;00m \u001b[38;5;21;01mevaluate\u001b[39;00m \u001b[38;5;28;01mimport\u001b[39;00m evaluator\n\u001b[1;32m      2\u001b[0m task_evaluator \u001b[38;5;241m=\u001b[39m evaluator(\u001b[38;5;124m\"\u001b[39m\u001b[38;5;124mtext-classification\u001b[39m\u001b[38;5;124m\"\u001b[39m)\n\u001b[0;32m----> 3\u001b[0m \u001b[43mtask_evaluator\u001b[49m\u001b[38;5;241;43m.\u001b[39;49m\u001b[43mcompute\u001b[49m\u001b[43m(\u001b[49m\u001b[43m)\u001b[49m\n",
      "File \u001b[0;32m/anaconda/envs/llm_parser/lib/python3.12/site-packages/evaluate/evaluator/text_classification.py:130\u001b[0m, in \u001b[0;36mTextClassificationEvaluator.compute\u001b[0;34m(self, model_or_pipeline, data, subset, split, metric, tokenizer, feature_extractor, strategy, confidence_level, n_resamples, device, random_state, input_column, second_input_column, label_column, label_mapping)\u001b[0m\n\u001b[1;32m    127\u001b[0m \u001b[38;5;28mself\u001b[39m\u001b[38;5;241m.\u001b[39mcheck_for_mismatch_in_device_setup(device, model_or_pipeline)\n\u001b[1;32m    129\u001b[0m \u001b[38;5;66;03m# Prepare inputs\u001b[39;00m\n\u001b[0;32m--> 130\u001b[0m data \u001b[38;5;241m=\u001b[39m \u001b[38;5;28;43mself\u001b[39;49m\u001b[38;5;241;43m.\u001b[39;49m\u001b[43mload_data\u001b[49m\u001b[43m(\u001b[49m\u001b[43mdata\u001b[49m\u001b[38;5;241;43m=\u001b[39;49m\u001b[43mdata\u001b[49m\u001b[43m,\u001b[49m\u001b[43m \u001b[49m\u001b[43msubset\u001b[49m\u001b[38;5;241;43m=\u001b[39;49m\u001b[43msubset\u001b[49m\u001b[43m,\u001b[49m\u001b[43m \u001b[49m\u001b[43msplit\u001b[49m\u001b[38;5;241;43m=\u001b[39;49m\u001b[43msplit\u001b[49m\u001b[43m)\u001b[49m\n\u001b[1;32m    131\u001b[0m metric_inputs, pipe_inputs \u001b[38;5;241m=\u001b[39m \u001b[38;5;28mself\u001b[39m\u001b[38;5;241m.\u001b[39mprepare_data(\n\u001b[1;32m    132\u001b[0m     data\u001b[38;5;241m=\u001b[39mdata, input_column\u001b[38;5;241m=\u001b[39minput_column, second_input_column\u001b[38;5;241m=\u001b[39msecond_input_column, label_column\u001b[38;5;241m=\u001b[39mlabel_column\n\u001b[1;32m    133\u001b[0m )\n\u001b[1;32m    134\u001b[0m pipe \u001b[38;5;241m=\u001b[39m \u001b[38;5;28mself\u001b[39m\u001b[38;5;241m.\u001b[39mprepare_pipeline(\n\u001b[1;32m    135\u001b[0m     model_or_pipeline\u001b[38;5;241m=\u001b[39mmodel_or_pipeline,\n\u001b[1;32m    136\u001b[0m     tokenizer\u001b[38;5;241m=\u001b[39mtokenizer,\n\u001b[1;32m    137\u001b[0m     feature_extractor\u001b[38;5;241m=\u001b[39mfeature_extractor,\n\u001b[1;32m    138\u001b[0m     device\u001b[38;5;241m=\u001b[39mdevice,\n\u001b[1;32m    139\u001b[0m )\n",
      "File \u001b[0;32m/anaconda/envs/llm_parser/lib/python3.12/site-packages/evaluate/evaluator/base.py:386\u001b[0m, in \u001b[0;36mEvaluator.load_data\u001b[0;34m(self, data, subset, split)\u001b[0m\n\u001b[1;32m    384\u001b[0m     \u001b[38;5;28;01mreturn\u001b[39;00m data\n\u001b[1;32m    385\u001b[0m \u001b[38;5;28;01melse\u001b[39;00m:\n\u001b[0;32m--> 386\u001b[0m     \u001b[38;5;28;01mraise\u001b[39;00m \u001b[38;5;167;01mValueError\u001b[39;00m(\n\u001b[1;32m    387\u001b[0m         \u001b[38;5;124m\"\u001b[39m\u001b[38;5;124mPlease specify a valid `data` object - either a `str` with a name or a `Dataset` object.\u001b[39m\u001b[38;5;124m\"\u001b[39m\n\u001b[1;32m    388\u001b[0m     )\n",
      "\u001b[0;31mValueError\u001b[0m: Please specify a valid `data` object - either a `str` with a name or a `Dataset` object."
     ]
    }
   ],
   "source": [
    "from evaluate import evaluator\n",
    "task_evaluator = evaluator(\"text-classification\")\n",
    "task_evaluator.compute(model=\"/home/azureuser/cloudfiles/code/Users/Michael.Sowter/Deep_Learning_Training/Text Classifier/Models/Mod_approach to the codes\")"
   ]
  },
  {
   "cell_type": "code",
   "execution_count": 16,
   "metadata": {},
   "outputs": [
    {
     "name": "stderr",
     "output_type": "stream",
     "text": [
      "Map: 100%|████████████████████████████████████████████████████████████████████████████████████████████████████████████████████████████████████████████████████████████████████████████████████████████████████████████████████████████████████████████████████████████████████████████████████████████████████████████████████████████████████████████████████████████████████████████████████████████████████████████████████████████████████████████████████████████████████████████████████████████████████████████████████████████████████████████████████████████████████████████████████████████████████████████████████████████████████████████████████████████████████████████████████████████████████████████████████████████████████████████████████████████████████████████████████████████████████████████████████████████████████████████████████████████████████████████████████████████████████████████████████████████████████████████████████████████████████████████████| 1403/1403 [00:00<00:00, 4293.91 examples/s]\n"
     ]
    }
   ],
   "source": [
    "test_data = Dataset.from_pandas(eval_data, preserve_index=False)  # don't include pandas index\n",
    "test_data = test_data.map(proc_data, batched=True) "
   ]
  },
  {
   "cell_type": "code",
   "execution_count": null,
   "metadata": {},
   "outputs": [],
   "source": [
    "eval_data"
   ]
  },
  {
   "cell_type": "code",
   "execution_count": 47,
   "metadata": {},
   "outputs": [
    {
     "data": {
      "text/html": [],
      "text/plain": [
       "<IPython.core.display.HTML object>"
      ]
     },
     "metadata": {},
     "output_type": "display_data"
    },
    {
     "name": "stderr",
     "output_type": "stream",
     "text": [
      "/anaconda/envs/llm_parser/lib/python3.12/site-packages/sklearn/metrics/_classification.py:1509: UndefinedMetricWarning: Recall is ill-defined and being set to 0.0 due to no true samples. Use `zero_division` parameter to control this behavior.\n",
      "  _warn_prf(average, modifier, f\"{metric.capitalize()} is\", len(result))\n"
     ]
    },
    {
     "name": "stdout",
     "output_type": "stream",
     "text": [
      "[[-0.13651986  0.18529259]\n",
      " [ 0.8230903  -0.7720542 ]\n",
      " [-0.13704707  0.2995234 ]\n",
      " ...\n",
      " [ 1.2004975  -1.0411704 ]\n",
      " [ 1.0460117  -0.8857551 ]\n",
      " [ 1.0958154  -0.98287666]]\n"
     ]
    }
   ],
   "source": [
    "predictions, labels, metrics = trainer.predict(test_data)\n",
    "print(predictions)"
   ]
  },
  {
   "cell_type": "code",
   "execution_count": 50,
   "metadata": {},
   "outputs": [],
   "source": [
    "import numpy as np\n",
    "\n",
    "def softmax(logits):\n",
    "    exp_scores = np.exp(logits - np.max(logits, axis=1, keepdims=True))\n",
    "    return exp_scores / np.sum(exp_scores, axis=1, keepdims=True)\n",
    "\n",
    "probabilities = softmax(predictions)\n",
    "logits = predictions"
   ]
  },
  {
   "cell_type": "code",
   "execution_count": 54,
   "metadata": {},
   "outputs": [
    {
     "name": "stdout",
     "output_type": "stream",
     "text": [
      "386\n"
     ]
    }
   ],
   "source": [
    "# Predicted classes based on logits (note how we get the same result)\n",
    "predicted_classes_prob = np.argmax(probabilities, axis=1)\n",
    "predicted_classes_log = np.argmax(logits, axis=1)\n",
    "\n",
    "print(sum(predicted_classes_log))"
   ]
  },
  {
   "cell_type": "code",
   "execution_count": 10,
   "metadata": {},
   "outputs": [
    {
     "name": "stdout",
     "output_type": "stream",
     "text": [
      "['__annotations__', '__cached__setup_devices', '__class__', '__dataclass_fields__', '__dataclass_params__', '__delattr__', '__dict__', '__dir__', '__doc__', '__eq__', '__format__', '__ge__', '__getattribute__', '__getstate__', '__gt__', '__hash__', '__init__', '__init_subclass__', '__le__', '__lt__', '__match_args__', '__module__', '__ne__', '__new__', '__post_init__', '__reduce__', '__reduce_ex__', '__repr__', '__setattr__', '__sizeof__', '__str__', '__subclasshook__', '__weakref__', '_n_gpu', '_no_sync_in_gradient_accumulation', '_setup_devices', 'accelerator_config', 'adafactor', 'adam_beta1', 'adam_beta2', 'adam_epsilon', 'auto_find_batch_size', 'bf16', 'bf16_full_eval', 'data_seed', 'dataloader_drop_last', 'dataloader_num_workers', 'dataloader_persistent_workers', 'dataloader_pin_memory', 'dataloader_prefetch_factor', 'ddp_backend', 'ddp_broadcast_buffers', 'ddp_bucket_cap_mb', 'ddp_find_unused_parameters', 'ddp_timeout', 'ddp_timeout_delta', 'debug', 'deepspeed', 'deepspeed_plugin', 'default_optim', 'device', 'disable_tqdm', 'dispatch_batches', 'distributed_state', 'do_eval', 'do_predict', 'do_train', 'eval_accumulation_steps', 'eval_batch_size', 'eval_delay', 'eval_steps', 'evaluation_strategy', 'fp16', 'fp16_backend', 'fp16_full_eval', 'fp16_opt_level', 'framework', 'fsdp', 'fsdp_config', 'fsdp_min_num_params', 'fsdp_transformer_layer_cls_to_wrap', 'full_determinism', 'get_process_log_level', 'get_warmup_steps', 'gradient_accumulation_steps', 'gradient_checkpointing', 'gradient_checkpointing_kwargs', 'greater_is_better', 'group_by_length', 'half_precision_backend', 'hub_always_push', 'hub_model_id', 'hub_private_repo', 'hub_strategy', 'hub_token', 'ignore_data_skip', 'include_inputs_for_metrics', 'include_num_input_tokens_seen', 'include_tokens_per_second', 'jit_mode_eval', 'label_names', 'label_smoothing_factor', 'learning_rate', 'length_column_name', 'load_best_model_at_end', 'local_process_index', 'local_rank', 'log_level', 'log_level_replica', 'log_on_each_node', 'logging_dir', 'logging_first_step', 'logging_nan_inf_filter', 'logging_steps', 'logging_strategy', 'lr_scheduler_kwargs', 'lr_scheduler_type', 'main_process_first', 'max_grad_norm', 'max_steps', 'metric_for_best_model', 'mp_parameters', 'n_gpu', 'neftune_noise_alpha', 'no_cuda', 'num_train_epochs', 'optim', 'optim_args', 'output_dir', 'overwrite_output_dir', 'parallel_mode', 'past_index', 'per_device_eval_batch_size', 'per_device_train_batch_size', 'per_gpu_eval_batch_size', 'per_gpu_train_batch_size', 'place_model_on_device', 'prediction_loss_only', 'process_index', 'push_to_hub', 'push_to_hub_model_id', 'push_to_hub_organization', 'push_to_hub_token', 'ray_scope', 'remove_unused_columns', 'report_to', 'resume_from_checkpoint', 'run_name', 'save_on_each_node', 'save_only_model', 'save_safetensors', 'save_steps', 'save_strategy', 'save_total_limit', 'seed', 'set_dataloader', 'set_evaluate', 'set_logging', 'set_lr_scheduler', 'set_optimizer', 'set_push_to_hub', 'set_save', 'set_testing', 'set_training', 'should_log', 'should_save', 'skip_memory_metrics', 'split_batches', 'tf32', 'to_dict', 'to_json_string', 'to_sanitized_dict', 'torch_compile', 'torch_compile_backend', 'torch_compile_mode', 'torchdynamo', 'tpu_metrics_debug', 'tpu_num_cores', 'train_batch_size', 'use_cpu', 'use_ipex', 'use_legacy_prediction_loop', 'use_mps_device', 'warmup_ratio', 'warmup_steps', 'weight_decay', 'world_size']\n",
      "/home/azureuser/cloudfiles/code/Users/Michael.Sowter/Deep_Learning_Training/Text Classifier/Models/Mod_1\n"
     ]
    }
   ],
   "source": [
    "from transformers import AutoModelForSequenceClassification, TrainingArguments, Trainer, EarlyStoppingCallback\n",
    "from transformers import DataCollatorWithPadding\n",
    "import evaluate\n",
    "model_output_path = \"/home/azureuser/cloudfiles/code/Users/Michael.Sowter/Deep_Learning_Training/Text Classifier/Models/Mod_1\"\n",
    "\n",
    "\n",
    "training_args = TrainingArguments(\n",
    "    output_dir=model_output_path,  # path model stored\n",
    "    learning_rate=2e-5,\n",
    "    per_device_train_batch_size=16,\n",
    "    per_device_eval_batch_size=16,\n",
    "    num_train_epochs=20,\n",
    "    weight_decay=0.01,\n",
    "    evaluation_strategy=\"epoch\",\n",
    "    save_strategy=\"epoch\",\n",
    "    load_best_model_at_end=True,\n",
    "    push_to_hub=False\n",
    "\n",
    "    # logging_steps= 25 # logs made every X batches. So smaller log means more information recorded (see log in table but also more computational and memory requirements)\n",
    "    )\n",
    "\n",
    "print(dir(training_args))\n",
    "print(training_args.output_dir)"
   ]
  },
  {
   "cell_type": "code",
   "execution_count": 88,
   "metadata": {},
   "outputs": [
    {
     "name": "stdout",
     "output_type": "stream",
     "text": [
      "[1 0 1 ... 0 0 0] [0 0 0 ... 0 0 0] (1403,) (1403,)\n"
     ]
    },
    {
     "data": {
      "text/plain": [
       "<matplotlib.collections.PathCollection at 0x7f6f4ddd9a00>"
      ]
     },
     "execution_count": 88,
     "metadata": {},
     "output_type": "execute_result"
    },
    {
     "data": {
      "image/png": "[encoded data removed]",
      "text/plain": [
       "<Figure size 640x480 with 1 Axes>"
      ]
     },
     "metadata": {},
     "output_type": "display_data"
    }
   ],
   "source": [
    "from matplotlib import pyplot as plt\n",
    "print(predicted_classes_prob, labels, labels.shape, predicted_classes_prob.shape)\n",
    "plt.scatter(labels, predicted_classes_prob)"
   ]
  },
  {
   "cell_type": "code",
   "execution_count": 86,
   "metadata": {},
   "outputs": [
    {
     "data": {
      "text/plain": [
       "{'confusion_matrix': array([[0.72487527, 0.27512473],\n",
       "        [0.        , 0.        ]])}"
      ]
     },
     "execution_count": 86,
     "metadata": {},
     "output_type": "execute_result"
    }
   ],
   "source": [
    "cfm_metric = evaluate.load(\"BucketHeadP65/confusion_matrix\")\n",
    "results = cfm_metric.compute(references=labels, predictions=predicted_classes_prob, normalize=\"all\")\n",
    "results\n"
   ]
  },
  {
   "cell_type": "code",
   "execution_count": 29,
   "metadata": {},
   "outputs": [
    {
     "data": {
      "text/plain": [
       "[0.0001,\n",
       " 0.0011,\n",
       " 0.0021,\n",
       " 0.0031,\n",
       " 0.0041,\n",
       " 0.0051,\n",
       " 0.0061,\n",
       " 0.0071,\n",
       " 0.0081,\n",
       " 0.0091,\n",
       " 0.0101,\n",
       " 0.011099999999999999,\n",
       " 0.0121,\n",
       " 0.0131,\n",
       " 0.0141,\n",
       " 0.015099999999999999,\n",
       " 0.0161,\n",
       " 0.0171,\n",
       " 0.0181,\n",
       " 0.0191,\n",
       " 0.0201,\n",
       " 0.0211,\n",
       " 0.022099999999999998,\n",
       " 0.0231,\n",
       " 0.0241,\n",
       " 0.0251,\n",
       " 0.0261,\n",
       " 0.0271,\n",
       " 0.0281,\n",
       " 0.0291,\n",
       " 0.0301,\n",
       " 0.0311,\n",
       " 0.032100000000000004,\n",
       " 0.033100000000000004,\n",
       " 0.034100000000000005,\n",
       " 0.035100000000000006,\n",
       " 0.03610000000000001,\n",
       " 0.0371,\n",
       " 0.0381,\n",
       " 0.0391,\n",
       " 0.040100000000000004,\n",
       " 0.041100000000000005,\n",
       " 0.042100000000000005,\n",
       " 0.043100000000000006,\n",
       " 0.0441,\n",
       " 0.0451,\n",
       " 0.0461,\n",
       " 0.0471,\n",
       " 0.048100000000000004,\n",
       " 0.049100000000000005,\n",
       " 0.050100000000000006,\n",
       " 0.051100000000000007,\n",
       " 0.05210000000000001,\n",
       " 0.0531,\n",
       " 0.0541,\n",
       " 0.0551,\n",
       " 0.056100000000000004,\n",
       " 0.057100000000000005,\n",
       " 0.058100000000000006,\n",
       " 0.05910000000000001,\n",
       " 0.0601,\n",
       " 0.0611,\n",
       " 0.0621,\n",
       " 0.0631,\n",
       " 0.0641,\n",
       " 0.0651,\n",
       " 0.0661,\n",
       " 0.0671,\n",
       " 0.06810000000000001,\n",
       " 0.06910000000000001,\n",
       " 0.07010000000000001,\n",
       " 0.07110000000000001,\n",
       " 0.07210000000000001,\n",
       " 0.0731,\n",
       " 0.0741,\n",
       " 0.0751,\n",
       " 0.0761,\n",
       " 0.0771,\n",
       " 0.0781,\n",
       " 0.0791,\n",
       " 0.0801,\n",
       " 0.0811,\n",
       " 0.0821,\n",
       " 0.08310000000000001,\n",
       " 0.08410000000000001,\n",
       " 0.08510000000000001,\n",
       " 0.08610000000000001,\n",
       " 0.08710000000000001,\n",
       " 0.0881,\n",
       " 0.0891,\n",
       " 0.0901,\n",
       " 0.0911,\n",
       " 0.0921,\n",
       " 0.0931,\n",
       " 0.0941,\n",
       " 0.0951,\n",
       " 0.0961,\n",
       " 0.0971,\n",
       " 0.0981,\n",
       " 0.09910000000000001]"
      ]
     },
     "execution_count": 29,
     "metadata": {},
     "output_type": "execute_result"
    }
   ],
   "source": [
    "import numpy as np\n",
    "list(np.arange(10**-4, 0.1, 0.001))"
   ]
  },
  {
   "cell_type": "code",
   "execution_count": 87,
   "metadata": {},
   "outputs": [
    {
     "name": "stdout",
     "output_type": "stream",
     "text": [
      "['__class__', '__del__', '__delattr__', '__dict__', '__dir__', '__doc__', '__eq__', '__format__', '__ge__', '__getattribute__', '__getstate__', '__gt__', '__hash__', '__init__', '__init_subclass__', '__le__', '__len__', '__lt__', '__module__', '__ne__', '__new__', '__reduce__', '__reduce_ex__', '__repr__', '__setattr__', '__sizeof__', '__str__', '__subclasshook__', '__weakref__', '_build_data_dir', '_check_all_processes_locks', '_check_rendez_vous', '_compute', '_create_cache_file', '_data_dir_root', '_download_and_prepare', '_enforce_nested_string_type', '_feature_names', '_finalize', '_get_all_cache_files', '_hash', '_infer_feature_from_batch', '_infer_feature_from_example', '_info', '_init_writer', '_module_info', 'add', 'add_batch', 'buf_writer', 'cache_file_name', 'citation', 'codebase_urls', 'compute', 'config_name', 'data', 'data_dir', 'description', 'download_and_prepare', 'experiment_id', 'features', 'file_paths', 'filelock', 'filelocks', 'format', 'homepage', 'info', 'inputs_description', 'keep_in_memory', 'license', 'max_concurrent_cache_files', 'module_type', 'name', 'num_process', 'process_id', 'reference_urls', 'rendez_vous_lock', 'seed', 'selected_feature_format', 'streamable', 'timeout', 'writer', 'writer_batch_size']\n"
     ]
    }
   ],
   "source": [
    "print(dir(cfm_metric))"
   ]
  },
  {
   "cell_type": "code",
   "execution_count": 42,
   "metadata": {},
   "outputs": [
    {
     "name": "stdout",
     "output_type": "stream",
     "text": [
      "{'test_loss': 0.5473019480705261, 'test_accuracy': 0.7248752672843906, 'test_f1': 0.0, 'test_precision': 0.0, 'test_recall': 0.0, 'test_runtime': 7.8116, 'test_samples_per_second': 179.604, 'test_steps_per_second': 11.265}\n",
      "['__add__', '__annotations__', '__class__', '__class_getitem__', '__contains__', '__delattr__', '__dir__', '__doc__', '__eq__', '__format__', '__ge__', '__getattribute__', '__getitem__', '__getnewargs__', '__getstate__', '__gt__', '__hash__', '__init__', '__init_subclass__', '__iter__', '__le__', '__len__', '__lt__', '__match_args__', '__module__', '__mul__', '__ne__', '__new__', '__orig_bases__', '__reduce__', '__reduce_ex__', '__repr__', '__rmul__', '__setattr__', '__sizeof__', '__slots__', '__str__', '__subclasshook__', '_asdict', '_field_defaults', '_fields', '_make', '_replace', 'count', 'index', 'label_ids', 'metrics', 'predictions']\n"
     ]
    }
   ],
   "source": [
    "print(predictions.metrics)\n",
    "print(dir(predictions))"
   ]
  },
  {
   "cell_type": "markdown",
   "metadata": {},
   "source": [
    "# Inferencer"
   ]
  },
  {
   "cell_type": "code",
   "execution_count": 10,
   "metadata": {},
   "outputs": [
    {
     "ename": "FileNotFoundError",
     "evalue": "[Errno 2] No such file or directory: '/home/azureuser/cloudfiles/code/Users/Michael.Sowter/Deep_Learning_Training/Overview.pdf'",
     "output_type": "error",
     "traceback": [
      "\u001b[0;31m---------------------------------------------------------------------------\u001b[0m",
      "\u001b[0;31mFileNotFoundError\u001b[0m                         Traceback (most recent call last)",
      "Cell \u001b[0;32mIn[10], line 3\u001b[0m\n\u001b[1;32m      1\u001b[0m \u001b[38;5;28;01mfrom\u001b[39;00m \u001b[38;5;21;01mtika\u001b[39;00m \u001b[38;5;28;01mimport\u001b[39;00m parser\n\u001b[1;32m      2\u001b[0m pdf_filepath \u001b[38;5;241m=\u001b[39m \u001b[38;5;124m\"\u001b[39m\u001b[38;5;124m/home/azureuser/cloudfiles/code/Users/Michael.Sowter/Deep_Learning_Training/Overview.pdf\u001b[39m\u001b[38;5;124m\"\u001b[39m\n\u001b[0;32m----> 3\u001b[0m parsed_file \u001b[38;5;241m=\u001b[39m \u001b[43mparser\u001b[49m\u001b[38;5;241;43m.\u001b[39;49m\u001b[43mfrom_file\u001b[49m\u001b[43m(\u001b[49m\u001b[43mpdf_filepath\u001b[49m\u001b[43m)\u001b[49m[\u001b[38;5;124m'\u001b[39m\u001b[38;5;124mcontent\u001b[39m\u001b[38;5;124m'\u001b[39m]\n\u001b[1;32m      4\u001b[0m \u001b[38;5;28mprint\u001b[39m(parsed_file)\n",
      "File \u001b[0;32m/anaconda/envs/llm_parser/lib/python3.12/site-packages/tika/parser.py:40\u001b[0m, in \u001b[0;36mfrom_file\u001b[0;34m(filename, serverEndpoint, service, xmlContent, headers, config_path, requestOptions, raw_response)\u001b[0m\n\u001b[1;32m     24\u001b[0m \u001b[38;5;250m\u001b[39m\u001b[38;5;124;03m'''\u001b[39;00m\n\u001b[1;32m     25\u001b[0m \u001b[38;5;124;03mParses a file for metadata and content\u001b[39;00m\n\u001b[1;32m     26\u001b[0m \u001b[38;5;124;03m:param filename: path to file which needs to be parsed or binary file using open(path,'rb')\u001b[39;00m\n\u001b[0;32m   (...)\u001b[0m\n\u001b[1;32m     37\u001b[0m \u001b[38;5;124;03m        'content' has a str value and metadata has a dict type value.\u001b[39;00m\n\u001b[1;32m     38\u001b[0m \u001b[38;5;124;03m'''\u001b[39;00m\n\u001b[1;32m     39\u001b[0m \u001b[38;5;28;01mif\u001b[39;00m \u001b[38;5;129;01mnot\u001b[39;00m xmlContent:\n\u001b[0;32m---> 40\u001b[0m     output \u001b[38;5;241m=\u001b[39m \u001b[43mparse1\u001b[49m\u001b[43m(\u001b[49m\u001b[43mservice\u001b[49m\u001b[43m,\u001b[49m\u001b[43m \u001b[49m\u001b[43mfilename\u001b[49m\u001b[43m,\u001b[49m\u001b[43m \u001b[49m\u001b[43mserverEndpoint\u001b[49m\u001b[43m,\u001b[49m\u001b[43m \u001b[49m\u001b[43mheaders\u001b[49m\u001b[38;5;241;43m=\u001b[39;49m\u001b[43mheaders\u001b[49m\u001b[43m,\u001b[49m\u001b[43m \u001b[49m\u001b[43mconfig_path\u001b[49m\u001b[38;5;241;43m=\u001b[39;49m\u001b[43mconfig_path\u001b[49m\u001b[43m,\u001b[49m\u001b[43m \u001b[49m\u001b[43mrequestOptions\u001b[49m\u001b[38;5;241;43m=\u001b[39;49m\u001b[43mrequestOptions\u001b[49m\u001b[43m)\u001b[49m\n\u001b[1;32m     41\u001b[0m \u001b[38;5;28;01melse\u001b[39;00m:\n\u001b[1;32m     42\u001b[0m     output \u001b[38;5;241m=\u001b[39m parse1(service, filename, serverEndpoint, services\u001b[38;5;241m=\u001b[39m{\u001b[38;5;124m'\u001b[39m\u001b[38;5;124mmeta\u001b[39m\u001b[38;5;124m'\u001b[39m: \u001b[38;5;124m'\u001b[39m\u001b[38;5;124m/meta\u001b[39m\u001b[38;5;124m'\u001b[39m, \u001b[38;5;124m'\u001b[39m\u001b[38;5;124mtext\u001b[39m\u001b[38;5;124m'\u001b[39m: \u001b[38;5;124m'\u001b[39m\u001b[38;5;124m/tika\u001b[39m\u001b[38;5;124m'\u001b[39m, \u001b[38;5;124m'\u001b[39m\u001b[38;5;124mall\u001b[39m\u001b[38;5;124m'\u001b[39m: \u001b[38;5;124m'\u001b[39m\u001b[38;5;124m/rmeta/xml\u001b[39m\u001b[38;5;124m'\u001b[39m},\n\u001b[1;32m     43\u001b[0m                         headers\u001b[38;5;241m=\u001b[39mheaders, config_path\u001b[38;5;241m=\u001b[39mconfig_path, requestOptions\u001b[38;5;241m=\u001b[39mrequestOptions)\n",
      "File \u001b[0;32m/anaconda/envs/llm_parser/lib/python3.12/site-packages/tika/tika.py:336\u001b[0m, in \u001b[0;36mparse1\u001b[0;34m(option, urlOrPath, serverEndpoint, verbose, tikaServerJar, responseMimeType, services, rawResponse, headers, config_path, requestOptions)\u001b[0m\n\u001b[1;32m    334\u001b[0m \u001b[38;5;28;01mif\u001b[39;00m service \u001b[38;5;241m==\u001b[39m \u001b[38;5;124m'\u001b[39m\u001b[38;5;124m/tika\u001b[39m\u001b[38;5;124m'\u001b[39m: responseMimeType \u001b[38;5;241m=\u001b[39m \u001b[38;5;124m'\u001b[39m\u001b[38;5;124mtext/plain\u001b[39m\u001b[38;5;124m'\u001b[39m\n\u001b[1;32m    335\u001b[0m headers\u001b[38;5;241m.\u001b[39mupdate({\u001b[38;5;124m'\u001b[39m\u001b[38;5;124mAccept\u001b[39m\u001b[38;5;124m'\u001b[39m: responseMimeType, \u001b[38;5;124m'\u001b[39m\u001b[38;5;124mContent-Disposition\u001b[39m\u001b[38;5;124m'\u001b[39m: make_content_disposition_header(path\u001b[38;5;241m.\u001b[39mencode(\u001b[38;5;124m'\u001b[39m\u001b[38;5;124mutf-8\u001b[39m\u001b[38;5;124m'\u001b[39m) \u001b[38;5;28;01mif\u001b[39;00m \u001b[38;5;28mtype\u001b[39m(path) \u001b[38;5;129;01mis\u001b[39;00m unicode_string \u001b[38;5;28;01melse\u001b[39;00m path)})\n\u001b[0;32m--> 336\u001b[0m \u001b[38;5;28;01mwith\u001b[39;00m urlOrPath \u001b[38;5;28;01mif\u001b[39;00m _is_file_object(urlOrPath) \u001b[38;5;28;01melse\u001b[39;00m \u001b[38;5;28;43mopen\u001b[39;49m\u001b[43m(\u001b[49m\u001b[43mpath\u001b[49m\u001b[43m,\u001b[49m\u001b[43m \u001b[49m\u001b[38;5;124;43m'\u001b[39;49m\u001b[38;5;124;43mrb\u001b[39;49m\u001b[38;5;124;43m'\u001b[39;49m\u001b[43m)\u001b[49m \u001b[38;5;28;01mas\u001b[39;00m f:\n\u001b[1;32m    337\u001b[0m     status, response \u001b[38;5;241m=\u001b[39m callServer(\u001b[38;5;124m'\u001b[39m\u001b[38;5;124mput\u001b[39m\u001b[38;5;124m'\u001b[39m, serverEndpoint, service, f,\n\u001b[1;32m    338\u001b[0m                                   headers, verbose, tikaServerJar, config_path\u001b[38;5;241m=\u001b[39mconfig_path,\n\u001b[1;32m    339\u001b[0m                                   rawResponse\u001b[38;5;241m=\u001b[39mrawResponse, requestOptions\u001b[38;5;241m=\u001b[39mrequestOptions)\n\u001b[1;32m    341\u001b[0m \u001b[38;5;28;01mif\u001b[39;00m file_type \u001b[38;5;241m==\u001b[39m \u001b[38;5;124m'\u001b[39m\u001b[38;5;124mremote\u001b[39m\u001b[38;5;124m'\u001b[39m: os\u001b[38;5;241m.\u001b[39munlink(path)\n",
      "\u001b[0;31mFileNotFoundError\u001b[0m: [Errno 2] No such file or directory: '/home/azureuser/cloudfiles/code/Users/Michael.Sowter/Deep_Learning_Training/Overview.pdf'"
     ]
    }
   ],
   "source": [
    "from tika import parser\n",
    "pdf_filepath = \"/home/azureuser/cloudfiles/code/Users/Michael.Sowter/Deep_Learning_Training/Overview.pdf\"\n",
    "parsed_file = parser.from_file(pdf_filepath)['content']\n",
    "print(parsed_file)"
   ]
  },
  {
   "cell_type": "code",
   "execution_count": null,
   "metadata": {},
   "outputs": [],
   "source": [
    "import time\n",
    "s = time.time()"
   ]
  },
  {
   "cell_type": "code",
   "execution_count": null,
   "metadata": {},
   "outputs": [
    {
     "data": {
      "text/plain": [
       "0.01980757713317871"
      ]
     },
     "execution_count": 13,
     "metadata": {},
     "output_type": "execute_result"
    }
   ],
   "source": [
    "time.time()-s"
   ]
  },
  {
   "cell_type": "markdown",
   "metadata": {},
   "source": [
    "# Split inference document\n",
    "- This embedding is better than the one we used for bert\n",
    "- Couldn't use this for bert tokenisation/embeddings because we needed a bert tokenizer since our model is BERT\n",
    "\n",
    "Now we have our document in a machine readable form we need to split the doc into parts we can apply the model on and tag. We could do this using delimeters like paragraphs but a semanic splitter will hopefully seperate the doc by content i.e. each now input should be a new tag\n",
    "\n",
    "Q: Do we not need to clean the chunks?"
   ]
  },
  {
   "cell_type": "code",
   "execution_count": null,
   "metadata": {},
   "outputs": [],
   "source": [
    "from langchain_experimental.text_splitter import SemanticChunker\n",
    "from langchain_community.embeddings import HuggingFaceEmbeddings\n",
    "\n",
    "embedding = HuggingFaceEmbeddings(model_name=\"avsolatorio/GIST-small-Embedding-v0\")  # get embeddings model\n",
    "text_splitter = SemanticChunker(embedding)  # apply the model to the type of split we want to perform (a semantic split)\n",
    "chunks = text_splitter.create_documents([parsed_file])"
   ]
  },
  {
   "cell_type": "markdown",
   "metadata": {},
   "source": [
    "# Store spliced pdf in json file"
   ]
  },
  {
   "cell_type": "code",
   "execution_count": null,
   "metadata": {},
   "outputs": [],
   "source": [
    "outfile = \"/home/azureuser/cloudfiles/code/Users/Michael.Sowter/Deep_Learning_Training/Text Classifier/Output_Data/Inf_res.json\"\n",
    "# print(len(chunks), chunks[0])\n",
    "\n",
    "import json\n",
    "# from collections import defaultdict\n",
    "\n",
    "# # If the output file doesn't exist then create one\n",
    "# if not os.path.isfile(outfile):\n",
    "#     dict_chunks = defaultdict(list)\n",
    "#     for par in chunks:\n",
    "#         dict_chunks[par.page_content]=[]\n",
    "#     with open(outfile, \"w\") as outfile: \n",
    "#         json.dump(dict_chunks, outfile, indent = 4)\n",
    "#     print(outfile)"
   ]
  },
  {
   "cell_type": "code",
   "execution_count": null,
   "metadata": {},
   "outputs": [
    {
     "data": {
      "text/plain": [
       "[Document(page_content='\\n\\n\\n\\n\\n\\n\\n\\n\\n\\n\\n\\n\\n\\n\\n\\n\\n\\n\\n\\n\\n\\n\\n\\n\\n\\n\\n\\n\\n\\n\\n\\n\\n\\n\\n\\n\\n\\nOverview\\n\\n\\n \\n\\n \\n\\n \\n \\n\\nOverview \\nThis document is the first of four major consulta�ons that Ofcom, as appointed regulator of the \\nnew Online Safety Act (‘the Act’), will publish as part of our work to establish the new regula�ons \\nover the next 18 months. It focuses on our proposals for how internet services which enable the sharing of user generated \\ncontent (‘user-to-user’ or ‘U2U’ services) and search services should approach their new du�es \\nrela�ng to illegal content. It covers the following areas: the causes and impacts of illegal harms; how \\nservices should assess and mi�gate the risks of illegal harms; how services can iden�fy illegal \\ncontent; and our approach to enforcement. The proposals in this document reflect research we have conducted over the past three years as well \\nas informa�on and evidence gathered through extensive engagement with industry and other \\nexperts. Causes and impacts of illegal harms \\nWe are consul�ng on our assessment of how the priority illegal harms covered by the Act manifest \\nonline, what factors give rise to a risk of these harms and what the impact of the harms is. This \\nanalysis underlines the need for services to take ac�on to combat online harms. It shows that a large \\npropor�on of the UK popula�on has experienced harm online and that the impact of online harms \\ncan, in cases, be extremely severe. Our assessment demonstrates that women, children and groups \\nwith protected characteris�cs are especially likely to be exposed to harm online. Assessing risk \\nWe are consul�ng on the guidance we propose to give about how regulated stakeholders should \\nassess the risk of illegal harm taking place on their services (the ‘Risk Assessment Guidance’), as well \\nas on our proposals about the governance services should put in place to manage risks. This \\ndocument also consults on guidance about how services should keep adequate records of their risk \\nassessments. Services should undertake a robust and comprehensive risk assessment. More specifically, we \\npropose that providers should follow the four-step process set out in Figure 1 below when assessing \\nthe risk of illegal content on their services. We are also proposing that services take several steps to ensure that they have strong governance \\nprocedures in place to mi�gate the risks associated with illegal content. For example, we are \\nproposing that senior governance bodies at large services review the service’s risk management \\nac�vi�es related to online safety at least annually and that all services iden�fy a named senior \\nexecu�ve who is accountable for compliance with the online safety du�es. 2 \\n \\n\\nFigure 1: Proposed four-step process for illegal content risk assessment \\n\\n \\n\\nMitigating risk \\nWe are consul�ng on our illegal harms Codes of Prac�ce, laying out recommended measures that \\nregulated services can take to mi�gate the risk of illegal harm. While the Codes are not binding, and \\nso services can choose to take a different approach to mee�ng their du�es, they act as a ‘safe \\nharbour’. This means any service that implements the recommenda�ons in the Codes would be \\ndeemed to be compliant with its related safety du�es. In the codes we propose to recommend that services put in place a series of measures which, taken \\ntogether, will help combat all of the priority illegal harms in scope of the Act. These measures \\ninclude: \\n\\n• ensuring content modera�on teams are appropriately resourced and trained;  \\n• having easy-to-use systems for users to report poten�ally illegal content and make \\n\\ncomplaints;  \\n• allowing users to block other users or disable comments;  \\n• conduc�ng tests when they update their algorithms that recommend content to users \\n\\n(‘recommender systems’) to assess the risk that the changes would increase the \\ndissemina�on of illegal content; and \\n\\n• a series of recommended steps to make their terms and condi�ons clear and accessible. In addi�on to these cross-cu�ng measures, we propose that relevant services should take a series of \\ntargeted steps to combat Child Sexual Exploita�on and Abuse (CSEA), fraud and terrorism. These \\ntargeted steps include: \\n\\n• Using a technology called ‘hash matching’ to detect and remove known CSAM (Child Sexual \\nAbuse Material). Consistent with the restric�ons in the Act, this proposal does not apply to \\nprivate communica�ons or end-to-end encrypted communica�ons. We are not making any \\nproposals that would involve breaking encryp�on. However, end-to-end encrypted services \\nare s�ll subject to all the safety du�es set out in the Act and will s�ll need to take steps to \\nmi�gate risks of CSAM on their services; \\n\\n• Taking steps to make it harder for perpetrators to groom children online. For example, \\nconfiguring default se�ngs so that children do not appear in lists sugges�ng other users \\nconnect with them; \\n \\n\\n• Deploying keyword detec�on systems to help find and remove posts linked to the sale of \\nstolen creden�als.'),\n",
       " Document(page_content='This should help prevent atempts to commit fraud online. We are also \\nrecommending large and high-risk services have dedicated fraud repor�ng channels; \\n\\n\\n\\n \\n\\n \\n\\n3 \\n \\n\\n• Where services operate account verifica�on schemes, they should be transparent about the \\nsteps they are taking to verify accounts. This is aimed at reducing the risk of users being \\ndeceived by posts on fake accounts and should help address fraud and foreign interference in \\nUK processes such as elec�ons; and \\n\\n• Blocking accounts run by banned terrorist organisa�ons. Our analysis suggests that, taken together, these measures will be an effec�ve and propor�onate \\nmeans of tackling the priority illegal harms in scope of the Act.'),\n",
       " Document(page_content='Some of the proposals set out in this \\nconsulta�on would apply to all services. However, we are targe�ng many of the more onerous \\nproposals only at services which are large and/or high risk. We provide a full list of all the measures \\nwe are proposing and who they would apply to in our “consulta�on at a glance” which is published \\nalongside this consulta�on. Our proposals will make a contribu�on to comba�ng violence against women and girls online, \\nincluding by se�ng out how services should assess their risk of coercive and controlling behaviour, \\nstalking, harassment and threats, and in�mate image abuse. Our proposals for cross-cu�ng \\nmeasures and some harm specific measures will begin to mi�gate these risks. However, we recognise \\nthat more work is needed in this area, and we will be publishing dra� guidance on how services can \\ncombat violence against women and girls in early 2025. Identifying illegal content \\nA new legal requirement of the Act is for all services to swi�ly take down specific illegal content \\nwhen they become aware of it. Today we are consul�ng on our Illegal Content Judgements Guidance \\n(‘ICJG’). This will provide guidance to services on how they can iden�fy whether a piece of content is \\nlikely to be illegal. Enforcement \\nThe Act gives us significant enforcement powers in the event of non-compliance, including the ability \\nto issue fines of up £18m or up to 10% of the service’s qualifying worldwide revenue (whichever is \\ngreater) and to apply for a court order requiring an internet service provider to withdraw access to \\nthe service to prevent a significant risk of harm to UK users as a result of its failure. 4 \\n \\n\\nNext steps \\nWe welcome comments from stakeholders in response to the proposals set out in this document, \\nincluding any further evidence and suppor�ng informa�on to inform our final decisions.'),\n",
       " Document(page_content='The \\nconsulta�on closes on 23 February 2024, and we invite stakeholders to provide responses by this \\ndate. This is also a statutory consulta�on under the Act, and we will engage with specific statutory \\nconsultees through the consulta�on process. For further details of the process for making Codes and \\nguidance, please refer to our Legal Framework (Annex 12). To improve the accessibility of our consulta�on, we are also publishing a “chapter summaries” \\ndocument. It explains what each chapter is about, what proposals we are making, why we are \\nmaking them and what input we would appreciate from stakeholders. Chapter 1 of this document (Introduc�on) provides further informa�on on how services can use and \\nnavigate the document. Annexes 1-4 explain our approach to consulta�ons and how stakeholders \\ncan respond to this consulta�on. Once the consulta�on closes, we will consider stakeholder responses, review our proposals, and \\npublish a statement se�ng out our final decisions in rela�on to our consulta�on proposals, including \\nfinal versions of our guidance and Codes. We currently plan to publish our Statement in Winter 2024. Following our Statement, services will \\nhave three months to conduct their risk assessment. The Codes will also be subject to a \\nparliamentary approval process. We expect this process to conclude by the end of 2024 at which \\npoint the Codes will come into force. This is one of a number of major consulta�ons we will publish as over the next 12-18 months as we \\nput the new online safety regula�ons in place. We provide more detail on our roadmap for \\nimplemen�ng the Online Safety Act at the following link: Crea�ng a safer life online for people in the \\nUK. https://www.ofcom.org.uk/news-centre/2023/safer-life-online-for-people-in-uk\\nhttps://www.ofcom.org.uk/news-centre/2023/safer-life-online-for-people-in-uk\\n\\n\\tOverview\\n\\tCauses and impacts of illegal harms\\n\\tAssessing risk\\n\\tMitigating risk\\n\\tIdentifying illegal content\\n\\tEnforcement\\n\\tNext steps\\n\\n\\n')]"
      ]
     },
     "execution_count": 98,
     "metadata": {},
     "output_type": "execute_result"
    }
   ],
   "source": [
    "chunks"
   ]
  },
  {
   "cell_type": "markdown",
   "metadata": {},
   "source": [
    "# Open file back into data"
   ]
  },
  {
   "cell_type": "code",
   "execution_count": null,
   "metadata": {},
   "outputs": [
    {
     "data": {
      "text/plain": [
       "{'\\n\\n\\n\\n\\n\\n\\n\\n\\n\\n\\n\\n\\n\\n\\n\\n\\n\\n\\n\\n\\n\\n\\n\\n\\n\\n\\n\\n\\n\\n\\n\\n\\n\\n\\n\\n\\n\\nOverview\\n\\n\\n \\n\\n \\n\\n \\n \\n\\nOverview \\nThis document is the first of four major consulta�ons that Ofcom, as appointed regulator of the \\nnew Online Safety Act (‘the Act’), will publish as part of our work to establish the new regula�ons \\nover the next 18 months. It focuses on our proposals for how internet services which enable the sharing of user generated \\ncontent (‘user-to-user’ or ‘U2U’ services) and search services should approach their new du�es \\nrela�ng to illegal content. It covers the following areas: the causes and impacts of illegal harms; how \\nservices should assess and mi�gate the risks of illegal harms; how services can iden�fy illegal \\ncontent; and our approach to enforcement. The proposals in this document reflect research we have conducted over the past three years as well \\nas informa�on and evidence gathered through extensive engagement with industry and other \\nexperts. Causes and impacts of illegal harms \\nWe are consul�ng on our assessment of how the priority illegal harms covered by the Act manifest \\nonline, what factors give rise to a risk of these harms and what the impact of the harms is. This \\nanalysis underlines the need for services to take ac�on to combat online harms. It shows that a large \\npropor�on of the UK popula�on has experienced harm online and that the impact of online harms \\ncan, in cases, be extremely severe. Our assessment demonstrates that women, children and groups \\nwith protected characteris�cs are especially likely to be exposed to harm online. Assessing risk \\nWe are consul�ng on the guidance we propose to give about how regulated stakeholders should \\nassess the risk of illegal harm taking place on their services (the ‘Risk Assessment Guidance’), as well \\nas on our proposals about the governance services should put in place to manage risks. This \\ndocument also consults on guidance about how services should keep adequate records of their risk \\nassessments. Services should undertake a robust and comprehensive risk assessment. More specifically, we \\npropose that providers should follow the four-step process set out in Figure 1 below when assessing \\nthe risk of illegal content on their services. We are also proposing that services take several steps to ensure that they have strong governance \\nprocedures in place to mi�gate the risks associated with illegal content. For example, we are \\nproposing that senior governance bodies at large services review the service’s risk management \\nac�vi�es related to online safety at least annually and that all services iden�fy a named senior \\nexecu�ve who is accountable for compliance with the online safety du�es. 2 \\n \\n\\nFigure 1: Proposed four-step process for illegal content risk assessment \\n\\n \\n\\nMitigating risk \\nWe are consul�ng on our illegal harms Codes of Prac�ce, laying out recommended measures that \\nregulated services can take to mi�gate the risk of illegal harm. While the Codes are not binding, and \\nso services can choose to take a different approach to mee�ng their du�es, they act as a ‘safe \\nharbour’. This means any service that implements the recommenda�ons in the Codes would be \\ndeemed to be compliant with its related safety du�es. In the codes we propose to recommend that services put in place a series of measures which, taken \\ntogether, will help combat all of the priority illegal harms in scope of the Act. These measures \\ninclude: \\n\\n• ensuring content modera�on teams are appropriately resourced and trained;  \\n• having easy-to-use systems for users to report poten�ally illegal content and make \\n\\ncomplaints;  \\n• allowing users to block other users or disable comments;  \\n• conduc�ng tests when they update their algorithms that recommend content to users \\n\\n(‘recommender systems’) to assess the risk that the changes would increase the \\ndissemina�on of illegal content; and \\n\\n• a series of recommended steps to make their terms and condi�ons clear and accessible. In addi�on to these cross-cu�ng measures, we propose that relevant services should take a series of \\ntargeted steps to combat Child Sexual Exploita�on and Abuse (CSEA), fraud and terrorism. These \\ntargeted steps include: \\n\\n• Using a technology called ‘hash matching’ to detect and remove known CSAM (Child Sexual \\nAbuse Material). Consistent with the restric�ons in the Act, this proposal does not apply to \\nprivate communica�ons or end-to-end encrypted communica�ons. We are not making any \\nproposals that would involve breaking encryp�on. However, end-to-end encrypted services \\nare s�ll subject to all the safety du�es set out in the Act and will s�ll need to take steps to \\nmi�gate risks of CSAM on their services; \\n\\n• Taking steps to make it harder for perpetrators to groom children online. For example, \\nconfiguring default se�ngs so that children do not appear in lists sugges�ng other users \\nconnect with them; \\n \\n\\n• Deploying keyword detec�on systems to help find and remove posts linked to the sale of \\nstolen creden�als.': [],\n",
       " 'This should help prevent atempts to commit fraud online. We are also \\nrecommending large and high-risk services have dedicated fraud repor�ng channels; \\n\\n\\n\\n \\n\\n \\n\\n3 \\n \\n\\n• Where services operate account verifica�on schemes, they should be transparent about the \\nsteps they are taking to verify accounts. This is aimed at reducing the risk of users being \\ndeceived by posts on fake accounts and should help address fraud and foreign interference in \\nUK processes such as elec�ons; and \\n\\n• Blocking accounts run by banned terrorist organisa�ons. Our analysis suggests that, taken together, these measures will be an effec�ve and propor�onate \\nmeans of tackling the priority illegal harms in scope of the Act.': [],\n",
       " 'Some of the proposals set out in this \\nconsulta�on would apply to all services. However, we are targe�ng many of the more onerous \\nproposals only at services which are large and/or high risk. We provide a full list of all the measures \\nwe are proposing and who they would apply to in our “consulta�on at a glance” which is published \\nalongside this consulta�on. Our proposals will make a contribu�on to comba�ng violence against women and girls online, \\nincluding by se�ng out how services should assess their risk of coercive and controlling behaviour, \\nstalking, harassment and threats, and in�mate image abuse. Our proposals for cross-cu�ng \\nmeasures and some harm specific measures will begin to mi�gate these risks. However, we recognise \\nthat more work is needed in this area, and we will be publishing dra� guidance on how services can \\ncombat violence against women and girls in early 2025. Identifying illegal content \\nA new legal requirement of the Act is for all services to swi�ly take down specific illegal content \\nwhen they become aware of it. Today we are consul�ng on our Illegal Content Judgements Guidance \\n(‘ICJG’). This will provide guidance to services on how they can iden�fy whether a piece of content is \\nlikely to be illegal. Enforcement \\nThe Act gives us significant enforcement powers in the event of non-compliance, including the ability \\nto issue fines of up £18m or up to 10% of the service’s qualifying worldwide revenue (whichever is \\ngreater) and to apply for a court order requiring an internet service provider to withdraw access to \\nthe service to prevent a significant risk of harm to UK users as a result of its failure. 4 \\n \\n\\nNext steps \\nWe welcome comments from stakeholders in response to the proposals set out in this document, \\nincluding any further evidence and suppor�ng informa�on to inform our final decisions.': [],\n",
       " 'The \\nconsulta�on closes on 23 February 2024, and we invite stakeholders to provide responses by this \\ndate. This is also a statutory consulta�on under the Act, and we will engage with specific statutory \\nconsultees through the consulta�on process. For further details of the process for making Codes and \\nguidance, please refer to our Legal Framework (Annex 12). To improve the accessibility of our consulta�on, we are also publishing a “chapter summaries” \\ndocument. It explains what each chapter is about, what proposals we are making, why we are \\nmaking them and what input we would appreciate from stakeholders. Chapter 1 of this document (Introduc�on) provides further informa�on on how services can use and \\nnavigate the document. Annexes 1-4 explain our approach to consulta�ons and how stakeholders \\ncan respond to this consulta�on. Once the consulta�on closes, we will consider stakeholder responses, review our proposals, and \\npublish a statement se�ng out our final decisions in rela�on to our consulta�on proposals, including \\nfinal versions of our guidance and Codes. We currently plan to publish our Statement in Winter 2024. Following our Statement, services will \\nhave three months to conduct their risk assessment. The Codes will also be subject to a \\nparliamentary approval process. We expect this process to conclude by the end of 2024 at which \\npoint the Codes will come into force. This is one of a number of major consulta�ons we will publish as over the next 12-18 months as we \\nput the new online safety regula�ons in place. We provide more detail on our roadmap for \\nimplemen�ng the Online Safety Act at the following link: Crea�ng a safer life online for people in the \\nUK. https://www.ofcom.org.uk/news-centre/2023/safer-life-online-for-people-in-uk\\nhttps://www.ofcom.org.uk/news-centre/2023/safer-life-online-for-people-in-uk\\n\\n\\tOverview\\n\\tCauses and impacts of illegal harms\\n\\tAssessing risk\\n\\tMitigating risk\\n\\tIdentifying illegal content\\n\\tEnforcement\\n\\tNext steps\\n\\n\\n': []}"
      ]
     },
     "execution_count": 67,
     "metadata": {},
     "output_type": "execute_result"
    }
   ],
   "source": [
    "# with open(str(outfile), 'r') as empt_par:\n",
    "#     strored_chunk = json.load(empt_par)\n",
    "# strored_chunk"
   ]
  },
  {
   "cell_type": "markdown",
   "metadata": {},
   "source": [
    "# Use inferencing pipeline to tag data with model prediction\n",
    "\n",
    "- Can use our pipeline to determine a tag with pipeline(input_text) and it will output the label and score\n",
    "\n",
    "Q: Why don't we use a real_data pdf for the inferencing?"
   ]
  },
  {
   "cell_type": "code",
   "execution_count": null,
   "metadata": {},
   "outputs": [
    {
     "name": "stderr",
     "output_type": "stream",
     "text": [
      "2024-05-15 13:22:45.800572: I tensorflow/core/platform/cpu_feature_guard.cc:210] This TensorFlow binary is optimized to use available CPU instructions in performance-critical operations.\n",
      "To enable the following instructions: AVX2 AVX512F FMA, in other operations, rebuild TensorFlow with the appropriate compiler flags.\n",
      "2024-05-15 13:22:47.389439: W tensorflow/compiler/tf2tensorrt/utils/py_utils.cc:38] TF-TRT Warning: Could not find TensorRT\n"
     ]
    }
   ],
   "source": [
    "from transformers import pipeline\n",
    "\n",
    "def inference_pipeline(model_path, max_length=512):\n",
    "   pipe = pipeline(\"text-classification\", model=model_path, max_length=max_length, truncation=True)\n",
    "   return pipe\n",
    "\n",
    "best_model_path = \"/home/azureuser/cloudfiles/code/Users/Michael.Sowter/Deep_Learning_Training/Text Classifier/Models/Mod_1/Best\"\n",
    "infer = inference_pipeline(best_model_path)\n"
   ]
  },
  {
   "cell_type": "code",
   "execution_count": null,
   "metadata": {},
   "outputs": [
    {
     "name": "stdout",
     "output_type": "stream",
     "text": [
      "[{'label': 'Negative', 'score': 0.8220359683036804}]\n",
      "[{'label': 'Negative', 'score': 0.716924786567688}]\n"
     ]
    }
   ],
   "source": [
    "# test\n",
    "print(infer(\"Governance\"))\n",
    "print(infer(\"Bye\"))"
   ]
  },
  {
   "cell_type": "code",
   "execution_count": null,
   "metadata": {},
   "outputs": [
    {
     "data": {
      "text/plain": [
       "'\\n\\n\\n\\n\\n\\n\\n\\n\\n\\n\\n\\n\\n\\n\\n\\n\\n\\n\\n\\n\\n\\n\\n\\n\\n\\n\\n\\n\\n\\n\\n\\n\\n\\n\\n\\n\\n\\nOverview\\n\\n\\n \\n\\n \\n\\n \\n \\n\\nOverview \\nThis document is the first of four major consulta�ons that Ofcom, as appointed regulator of the \\nnew Online Safety Act (‘the Act’), will publish as part of our work to establish the new regula�ons \\nover the next 18 months. It focuses on our proposals for how internet services which enable the sharing of user generated \\ncontent (‘user-to-user’ or ‘U2U’ services) and search services should approach their new du�es \\nrela�ng to illegal content. It covers the following areas: the causes and impacts of illegal harms; how \\nservices should assess and mi�gate the risks of illegal harms; how services can iden�fy illegal \\ncontent; and our approach to enforcement. The proposals in this document reflect research we have conducted over the past three years as well \\nas informa�on and evidence gathered through extensive engagement with industry and other \\nexperts. Causes and impacts of illegal harms \\nWe are consul�ng on our assessment of how the priority illegal harms covered by the Act manifest \\nonline, what factors give rise to a risk of these harms and what the impact of the harms is. This \\nanalysis underlines the need for services to take ac�on to combat online harms. It shows that a large \\npropor�on of the UK popula�on has experienced harm online and that the impact of online harms \\ncan, in cases, be extremely severe. Our assessment demonstrates that women, children and groups \\nwith protected characteris�cs are especially likely to be exposed to harm online. Assessing risk \\nWe are consul�ng on the guidance we propose to give about how regulated stakeholders should \\nassess the risk of illegal harm taking place on their services (the ‘Risk Assessment Guidance’), as well \\nas on our proposals about the governance services should put in place to manage risks. This \\ndocument also consults on guidance about how services should keep adequate records of their risk \\nassessments. Services should undertake a robust and comprehensive risk assessment. More specifically, we \\npropose that providers should follow the four-step process set out in Figure 1 below when assessing \\nthe risk of illegal content on their services. We are also proposing that services take several steps to ensure that they have strong governance \\nprocedures in place to mi�gate the risks associated with illegal content. For example, we are \\nproposing that senior governance bodies at large services review the service’s risk management \\nac�vi�es related to online safety at least annually and that all services iden�fy a named senior \\nexecu�ve who is accountable for compliance with the online safety du�es. 2 \\n \\n\\nFigure 1: Proposed four-step process for illegal content risk assessment \\n\\n \\n\\nMitigating risk \\nWe are consul�ng on our illegal harms Codes of Prac�ce, laying out recommended measures that \\nregulated services can take to mi�gate the risk of illegal harm. While the Codes are not binding, and \\nso services can choose to take a different approach to mee�ng their du�es, they act as a ‘safe \\nharbour’. This means any service that implements the recommenda�ons in the Codes would be \\ndeemed to be compliant with its related safety du�es. In the codes we propose to recommend that services put in place a series of measures which, taken \\ntogether, will help combat all of the priority illegal harms in scope of the Act. These measures \\ninclude: \\n\\n• ensuring content modera�on teams are appropriately resourced and trained;  \\n• having easy-to-use systems for users to report poten�ally illegal content and make \\n\\ncomplaints;  \\n• allowing users to block other users or disable comments;  \\n• conduc�ng tests when they update their algorithms that recommend content to users \\n\\n(‘recommender systems’) to assess the risk that the changes would increase the \\ndissemina�on of illegal content; and \\n\\n• a series of recommended steps to make their terms and condi�ons clear and accessible. In addi�on to these cross-cu�ng measures, we propose that relevant services should take a series of \\ntargeted steps to combat Child Sexual Exploita�on and Abuse (CSEA), fraud and terrorism. These \\ntargeted steps include: \\n\\n• Using a technology called ‘hash matching’ to detect and remove known CSAM (Child Sexual \\nAbuse Material). Consistent with the restric�ons in the Act, this proposal does not apply to \\nprivate communica�ons or end-to-end encrypted communica�ons. We are not making any \\nproposals that would involve breaking encryp�on. However, end-to-end encrypted services \\nare s�ll subject to all the safety du�es set out in the Act and will s�ll need to take steps to \\nmi�gate risks of CSAM on their services; \\n\\n• Taking steps to make it harder for perpetrators to groom children online. For example, \\nconfiguring default se�ngs so that children do not appear in lists sugges�ng other users \\nconnect with them; \\n \\n\\n• Deploying keyword detec�on systems to help find and remove posts linked to the sale of \\nstolen creden�als.'"
      ]
     },
     "execution_count": 79,
     "metadata": {},
     "output_type": "execute_result"
    }
   ],
   "source": [
    "chunks[0].page_content"
   ]
  },
  {
   "cell_type": "code",
   "execution_count": null,
   "metadata": {},
   "outputs": [
    {
     "data": {
      "text/plain": [
       "[{'label': 'Negative', 'score': 0.5996244549751282}]"
      ]
     },
     "execution_count": 71,
     "metadata": {},
     "output_type": "execute_result"
    }
   ],
   "source": [
    "# try on our data\n",
    "infer(str(chunks)[0].replace(\"\\n\\n\", \"\"))"
   ]
  },
  {
   "cell_type": "code",
   "execution_count": null,
   "metadata": {},
   "outputs": [
    {
     "data": {
      "text/plain": [
       "{'\\n\\n\\n\\n\\n\\n\\n\\n\\n\\n\\n\\n\\n\\n\\n\\n\\n\\n\\n\\n\\n\\n\\n\\n\\n\\n\\n\\n\\n\\n\\n\\n\\n\\n\\n\\n\\n\\nOverview\\n\\n\\n \\n\\n \\n\\n \\n \\n\\nOverview \\nThis document is the first of four major consulta�ons that Ofcom, as appointed regulator of the \\nnew Online Safety Act (‘the Act’), will publish as part of our work to establish the new regula�ons \\nover the next 18 months. It focuses on our proposals for how internet services which enable the sharing of user generated \\ncontent (‘user-to-user’ or ‘U2U’ services) and search services should approach their new du�es \\nrela�ng to illegal content. It covers the following areas: the causes and impacts of illegal harms; how \\nservices should assess and mi�gate the risks of illegal harms; how services can iden�fy illegal \\ncontent; and our approach to enforcement. The proposals in this document reflect research we have conducted over the past three years as well \\nas informa�on and evidence gathered through extensive engagement with industry and other \\nexperts. Causes and impacts of illegal harms \\nWe are consul�ng on our assessment of how the priority illegal harms covered by the Act manifest \\nonline, what factors give rise to a risk of these harms and what the impact of the harms is. This \\nanalysis underlines the need for services to take ac�on to combat online harms. It shows that a large \\npropor�on of the UK popula�on has experienced harm online and that the impact of online harms \\ncan, in cases, be extremely severe. Our assessment demonstrates that women, children and groups \\nwith protected characteris�cs are especially likely to be exposed to harm online. Assessing risk \\nWe are consul�ng on the guidance we propose to give about how regulated stakeholders should \\nassess the risk of illegal harm taking place on their services (the ‘Risk Assessment Guidance’), as well \\nas on our proposals about the governance services should put in place to manage risks. This \\ndocument also consults on guidance about how services should keep adequate records of their risk \\nassessments. Services should undertake a robust and comprehensive risk assessment. More specifically, we \\npropose that providers should follow the four-step process set out in Figure 1 below when assessing \\nthe risk of illegal content on their services. We are also proposing that services take several steps to ensure that they have strong governance \\nprocedures in place to mi�gate the risks associated with illegal content. For example, we are \\nproposing that senior governance bodies at large services review the service’s risk management \\nac�vi�es related to online safety at least annually and that all services iden�fy a named senior \\nexecu�ve who is accountable for compliance with the online safety du�es. 2 \\n \\n\\nFigure 1: Proposed four-step process for illegal content risk assessment \\n\\n \\n\\nMitigating risk \\nWe are consul�ng on our illegal harms Codes of Prac�ce, laying out recommended measures that \\nregulated services can take to mi�gate the risk of illegal harm. While the Codes are not binding, and \\nso services can choose to take a different approach to mee�ng their du�es, they act as a ‘safe \\nharbour’. This means any service that implements the recommenda�ons in the Codes would be \\ndeemed to be compliant with its related safety du�es. In the codes we propose to recommend that services put in place a series of measures which, taken \\ntogether, will help combat all of the priority illegal harms in scope of the Act. These measures \\ninclude: \\n\\n• ensuring content modera�on teams are appropriately resourced and trained;  \\n• having easy-to-use systems for users to report poten�ally illegal content and make \\n\\ncomplaints;  \\n• allowing users to block other users or disable comments;  \\n• conduc�ng tests when they update their algorithms that recommend content to users \\n\\n(‘recommender systems’) to assess the risk that the changes would increase the \\ndissemina�on of illegal content; and \\n\\n• a series of recommended steps to make their terms and condi�ons clear and accessible. In addi�on to these cross-cu�ng measures, we propose that relevant services should take a series of \\ntargeted steps to combat Child Sexual Exploita�on and Abuse (CSEA), fraud and terrorism. These \\ntargeted steps include: \\n\\n• Using a technology called ‘hash matching’ to detect and remove known CSAM (Child Sexual \\nAbuse Material). Consistent with the restric�ons in the Act, this proposal does not apply to \\nprivate communica�ons or end-to-end encrypted communica�ons. We are not making any \\nproposals that would involve breaking encryp�on. However, end-to-end encrypted services \\nare s�ll subject to all the safety du�es set out in the Act and will s�ll need to take steps to \\nmi�gate risks of CSAM on their services; \\n\\n• Taking steps to make it harder for perpetrators to groom children online. For example, \\nconfiguring default se�ngs so that children do not appear in lists sugges�ng other users \\nconnect with them; \\n \\n\\n• Deploying keyword detec�on systems to help find and remove posts linked to the sale of \\nstolen creden�als.': {'governance and accountability': 0.1501895785331726},\n",
       " 'This should help prevent atempts to commit fraud online. We are also \\nrecommending large and high-risk services have dedicated fraud repor�ng channels; \\n\\n\\n\\n \\n\\n \\n\\n3 \\n \\n\\n• Where services operate account verifica�on schemes, they should be transparent about the \\nsteps they are taking to verify accounts. This is aimed at reducing the risk of users being \\ndeceived by posts on fake accounts and should help address fraud and foreign interference in \\nUK processes such as elec�ons; and \\n\\n• Blocking accounts run by banned terrorist organisa�ons. Our analysis suggests that, taken together, these measures will be an effec�ve and propor�onate \\nmeans of tackling the priority illegal harms in scope of the Act.': {'governance and accountability': 0.14618158340454102},\n",
       " 'Some of the proposals set out in this \\nconsulta�on would apply to all services. However, we are targe�ng many of the more onerous \\nproposals only at services which are large and/or high risk. We provide a full list of all the measures \\nwe are proposing and who they would apply to in our “consulta�on at a glance” which is published \\nalongside this consulta�on. Our proposals will make a contribu�on to comba�ng violence against women and girls online, \\nincluding by se�ng out how services should assess their risk of coercive and controlling behaviour, \\nstalking, harassment and threats, and in�mate image abuse. Our proposals for cross-cu�ng \\nmeasures and some harm specific measures will begin to mi�gate these risks. However, we recognise \\nthat more work is needed in this area, and we will be publishing dra� guidance on how services can \\ncombat violence against women and girls in early 2025. Identifying illegal content \\nA new legal requirement of the Act is for all services to swi�ly take down specific illegal content \\nwhen they become aware of it. Today we are consul�ng on our Illegal Content Judgements Guidance \\n(‘ICJG’). This will provide guidance to services on how they can iden�fy whether a piece of content is \\nlikely to be illegal. Enforcement \\nThe Act gives us significant enforcement powers in the event of non-compliance, including the ability \\nto issue fines of up £18m or up to 10% of the service’s qualifying worldwide revenue (whichever is \\ngreater) and to apply for a court order requiring an internet service provider to withdraw access to \\nthe service to prevent a significant risk of harm to UK users as a result of its failure. 4 \\n \\n\\nNext steps \\nWe welcome comments from stakeholders in response to the proposals set out in this document, \\nincluding any further evidence and suppor�ng informa�on to inform our final decisions.': {'governance and accountability': 0.45066750049591064},\n",
       " 'The \\nconsulta�on closes on 23 February 2024, and we invite stakeholders to provide responses by this \\ndate. This is also a statutory consulta�on under the Act, and we will engage with specific statutory \\nconsultees through the consulta�on process. For further details of the process for making Codes and \\nguidance, please refer to our Legal Framework (Annex 12). To improve the accessibility of our consulta�on, we are also publishing a “chapter summaries” \\ndocument. It explains what each chapter is about, what proposals we are making, why we are \\nmaking them and what input we would appreciate from stakeholders. Chapter 1 of this document (Introduc�on) provides further informa�on on how services can use and \\nnavigate the document. Annexes 1-4 explain our approach to consulta�ons and how stakeholders \\ncan respond to this consulta�on. Once the consulta�on closes, we will consider stakeholder responses, review our proposals, and \\npublish a statement se�ng out our final decisions in rela�on to our consulta�on proposals, including \\nfinal versions of our guidance and Codes. We currently plan to publish our Statement in Winter 2024. Following our Statement, services will \\nhave three months to conduct their risk assessment. The Codes will also be subject to a \\nparliamentary approval process. We expect this process to conclude by the end of 2024 at which \\npoint the Codes will come into force. This is one of a number of major consulta�ons we will publish as over the next 12-18 months as we \\nput the new online safety regula�ons in place. We provide more detail on our roadmap for \\nimplemen�ng the Online Safety Act at the following link: Crea�ng a safer life online for people in the \\nUK. https://www.ofcom.org.uk/news-centre/2023/safer-life-online-for-people-in-uk\\nhttps://www.ofcom.org.uk/news-centre/2023/safer-life-online-for-people-in-uk\\n\\n\\tOverview\\n\\tCauses and impacts of illegal harms\\n\\tAssessing risk\\n\\tMitigating risk\\n\\tIdentifying illegal content\\n\\tEnforcement\\n\\tNext steps\\n\\n\\n': {'governance and accountability': 0.24826580286026}}"
      ]
     },
     "execution_count": 103,
     "metadata": {},
     "output_type": "execute_result"
    }
   ],
   "source": [
    "# Now do it properly\n",
    "res = {}\n",
    "\n",
    "for chunk in chunks:\n",
    "    i = chunk.page_content\n",
    "    infer_res = infer(i.replace('\\n\\n', ''))[0]\n",
    "    if infer_res['label'] == \"Negative\": \n",
    "        infer_res['score'] = 1 - infer_res['score']  # keep scoring between 0 and 1\n",
    "\n",
    "    res[i] = {topic : infer_res['score']}\n",
    "\n",
    "res"
   ]
  },
  {
   "cell_type": "code",
   "execution_count": null,
   "metadata": {},
   "outputs": [
    {
     "data": {
      "text/plain": [
       "{'\\n\\n\\n\\n\\n\\n\\n\\n\\n\\n\\n\\n\\n\\n\\n\\n\\n\\n\\n\\n\\n\\n\\n\\n\\n\\n\\n\\n\\n\\n\\n\\n\\n\\n\\n\\n\\n\\nOverview\\n\\n\\n \\n\\n \\n\\n \\n \\n\\nOverview \\nThis document is the first of four major consulta�ons that Ofcom, as appointed regulator of the \\nnew Online Safety Act (‘the Act’), will publish as part of our work to establish the new regula�ons \\nover the next 18 months. It focuses on our proposals for how internet services which enable the sharing of user generated \\ncontent (‘user-to-user’ or ‘U2U’ services) and search services should approach their new du�es \\nrela�ng to illegal content. It covers the following areas: the causes and impacts of illegal harms; how \\nservices should assess and mi�gate the risks of illegal harms; how services can iden�fy illegal \\ncontent; and our approach to enforcement. The proposals in this document reflect research we have conducted over the past three years as well \\nas informa�on and evidence gathered through extensive engagement with industry and other \\nexperts. Causes and impacts of illegal harms \\nWe are consul�ng on our assessment of how the priority illegal harms covered by the Act manifest \\nonline, what factors give rise to a risk of these harms and what the impact of the harms is. This \\nanalysis underlines the need for services to take ac�on to combat online harms. It shows that a large \\npropor�on of the UK popula�on has experienced harm online and that the impact of online harms \\ncan, in cases, be extremely severe. Our assessment demonstrates that women, children and groups \\nwith protected characteris�cs are especially likely to be exposed to harm online. Assessing risk \\nWe are consul�ng on the guidance we propose to give about how regulated stakeholders should \\nassess the risk of illegal harm taking place on their services (the ‘Risk Assessment Guidance’), as well \\nas on our proposals about the governance services should put in place to manage risks. This \\ndocument also consults on guidance about how services should keep adequate records of their risk \\nassessments. Services should undertake a robust and comprehensive risk assessment. More specifically, we \\npropose that providers should follow the four-step process set out in Figure 1 below when assessing \\nthe risk of illegal content on their services. We are also proposing that services take several steps to ensure that they have strong governance \\nprocedures in place to mi�gate the risks associated with illegal content. For example, we are \\nproposing that senior governance bodies at large services review the service’s risk management \\nac�vi�es related to online safety at least annually and that all services iden�fy a named senior \\nexecu�ve who is accountable for compliance with the online safety du�es. 2 \\n \\n\\nFigure 1: Proposed four-step process for illegal content risk assessment \\n\\n \\n\\nMitigating risk \\nWe are consul�ng on our illegal harms Codes of Prac�ce, laying out recommended measures that \\nregulated services can take to mi�gate the risk of illegal harm. While the Codes are not binding, and \\nso services can choose to take a different approach to mee�ng their du�es, they act as a ‘safe \\nharbour’. This means any service that implements the recommenda�ons in the Codes would be \\ndeemed to be compliant with its related safety du�es. In the codes we propose to recommend that services put in place a series of measures which, taken \\ntogether, will help combat all of the priority illegal harms in scope of the Act. These measures \\ninclude: \\n\\n• ensuring content modera�on teams are appropriately resourced and trained;  \\n• having easy-to-use systems for users to report poten�ally illegal content and make \\n\\ncomplaints;  \\n• allowing users to block other users or disable comments;  \\n• conduc�ng tests when they update their algorithms that recommend content to users \\n\\n(‘recommender systems’) to assess the risk that the changes would increase the \\ndissemina�on of illegal content; and \\n\\n• a series of recommended steps to make their terms and condi�ons clear and accessible. In addi�on to these cross-cu�ng measures, we propose that relevant services should take a series of \\ntargeted steps to combat Child Sexual Exploita�on and Abuse (CSEA), fraud and terrorism. These \\ntargeted steps include: \\n\\n• Using a technology called ‘hash matching’ to detect and remove known CSAM (Child Sexual \\nAbuse Material). Consistent with the restric�ons in the Act, this proposal does not apply to \\nprivate communica�ons or end-to-end encrypted communica�ons. We are not making any \\nproposals that would involve breaking encryp�on. However, end-to-end encrypted services \\nare s�ll subject to all the safety du�es set out in the Act and will s�ll need to take steps to \\nmi�gate risks of CSAM on their services; \\n\\n• Taking steps to make it harder for perpetrators to groom children online. For example, \\nconfiguring default se�ngs so that children do not appear in lists sugges�ng other users \\nconnect with them; \\n \\n\\n• Deploying keyword detec�on systems to help find and remove posts linked to the sale of \\nstolen creden�als.': {'governance and accountability': 0.1501895785331726,\n",
       "  'test': 0.1501895785331726},\n",
       " 'This should help prevent atempts to commit fraud online. We are also \\nrecommending large and high-risk services have dedicated fraud repor�ng channels; \\n\\n\\n\\n \\n\\n \\n\\n3 \\n \\n\\n• Where services operate account verifica�on schemes, they should be transparent about the \\nsteps they are taking to verify accounts. This is aimed at reducing the risk of users being \\ndeceived by posts on fake accounts and should help address fraud and foreign interference in \\nUK processes such as elec�ons; and \\n\\n• Blocking accounts run by banned terrorist organisa�ons. Our analysis suggests that, taken together, these measures will be an effec�ve and propor�onate \\nmeans of tackling the priority illegal harms in scope of the Act.': {'governance and accountability': 0.14618158340454102,\n",
       "  'test': 0.14618158340454102},\n",
       " 'Some of the proposals set out in this \\nconsulta�on would apply to all services. However, we are targe�ng many of the more onerous \\nproposals only at services which are large and/or high risk. We provide a full list of all the measures \\nwe are proposing and who they would apply to in our “consulta�on at a glance” which is published \\nalongside this consulta�on. Our proposals will make a contribu�on to comba�ng violence against women and girls online, \\nincluding by se�ng out how services should assess their risk of coercive and controlling behaviour, \\nstalking, harassment and threats, and in�mate image abuse. Our proposals for cross-cu�ng \\nmeasures and some harm specific measures will begin to mi�gate these risks. However, we recognise \\nthat more work is needed in this area, and we will be publishing dra� guidance on how services can \\ncombat violence against women and girls in early 2025. Identifying illegal content \\nA new legal requirement of the Act is for all services to swi�ly take down specific illegal content \\nwhen they become aware of it. Today we are consul�ng on our Illegal Content Judgements Guidance \\n(‘ICJG’). This will provide guidance to services on how they can iden�fy whether a piece of content is \\nlikely to be illegal. Enforcement \\nThe Act gives us significant enforcement powers in the event of non-compliance, including the ability \\nto issue fines of up £18m or up to 10% of the service’s qualifying worldwide revenue (whichever is \\ngreater) and to apply for a court order requiring an internet service provider to withdraw access to \\nthe service to prevent a significant risk of harm to UK users as a result of its failure. 4 \\n \\n\\nNext steps \\nWe welcome comments from stakeholders in response to the proposals set out in this document, \\nincluding any further evidence and suppor�ng informa�on to inform our final decisions.': {'governance and accountability': 0.45066750049591064,\n",
       "  'test': 0.45066750049591064},\n",
       " 'The \\nconsulta�on closes on 23 February 2024, and we invite stakeholders to provide responses by this \\ndate. This is also a statutory consulta�on under the Act, and we will engage with specific statutory \\nconsultees through the consulta�on process. For further details of the process for making Codes and \\nguidance, please refer to our Legal Framework (Annex 12). To improve the accessibility of our consulta�on, we are also publishing a “chapter summaries” \\ndocument. It explains what each chapter is about, what proposals we are making, why we are \\nmaking them and what input we would appreciate from stakeholders. Chapter 1 of this document (Introduc�on) provides further informa�on on how services can use and \\nnavigate the document. Annexes 1-4 explain our approach to consulta�ons and how stakeholders \\ncan respond to this consulta�on. Once the consulta�on closes, we will consider stakeholder responses, review our proposals, and \\npublish a statement se�ng out our final decisions in rela�on to our consulta�on proposals, including \\nfinal versions of our guidance and Codes. We currently plan to publish our Statement in Winter 2024. Following our Statement, services will \\nhave three months to conduct their risk assessment. The Codes will also be subject to a \\nparliamentary approval process. We expect this process to conclude by the end of 2024 at which \\npoint the Codes will come into force. This is one of a number of major consulta�ons we will publish as over the next 12-18 months as we \\nput the new online safety regula�ons in place. We provide more detail on our roadmap for \\nimplemen�ng the Online Safety Act at the following link: Crea�ng a safer life online for people in the \\nUK. https://www.ofcom.org.uk/news-centre/2023/safer-life-online-for-people-in-uk\\nhttps://www.ofcom.org.uk/news-centre/2023/safer-life-online-for-people-in-uk\\n\\n\\tOverview\\n\\tCauses and impacts of illegal harms\\n\\tAssessing risk\\n\\tMitigating risk\\n\\tIdentifying illegal content\\n\\tEnforcement\\n\\tNext steps\\n\\n\\n': {'governance and accountability': 0.24826580286026,\n",
       "  'test': 0.24826580286026}}"
      ]
     },
     "execution_count": 106,
     "metadata": {},
     "output_type": "execute_result"
    }
   ],
   "source": [
    "for chunk in chunks:\n",
    "    i = chunk.page_content\n",
    "    # print(i)\n",
    "    infer_res = infer(i.replace('\\n\\n', ''))[0]\n",
    "    if infer_res['label'] == \"Negative\": \n",
    "        infer_res['score'] = 1 - infer_res['score']  # keep scoring between 0 and 1\n",
    "\n",
    "    res[i][\"test\"] = infer_res['score']\n",
    "res"
   ]
  },
  {
   "cell_type": "code",
   "execution_count": null,
   "metadata": {},
   "outputs": [
    {
     "data": {
      "text/plain": [
       "'\\n\\n\\n\\n\\n\\n\\n\\n\\n\\n\\n\\n\\n\\n\\n\\n\\n\\n\\n\\n\\n\\n\\n\\n\\n\\n\\n\\n\\n\\n\\n\\n\\n\\n\\n\\n\\n\\nOverview\\n\\n\\n \\n\\n \\n\\n \\n \\n\\nOverview \\nThis document is the first of four major consulta�ons that Ofcom, as appointed regulator of the \\nnew Online Safety Act (‘the Act’), will publish as part of our work to establish the new regula�ons \\nover the next 18 months. It focuses on our proposals for how internet services which enable the sharing of user generated \\ncontent (‘user-to-user’ or ‘U2U’ services) and search services should approach their new du�es \\nrela�ng to illegal content. It covers the following areas: the causes and impacts of illegal harms; how \\nservices should assess and mi�gate the risks of illegal harms; how services can iden�fy illegal \\ncontent; and our approach to enforcement. The proposals in this document reflect research we have conducted over the past three years as well \\nas informa�on and evidence gathered through extensive engagement with industry and other \\nexperts. Causes and impacts of illegal harms \\nWe are consul�ng on our assessment of how the priority illegal harms covered by the Act manifest \\nonline, what factors give rise to a risk of these harms and what the impact of the harms is. This \\nanalysis underlines the need for services to take ac�on to combat online harms. It shows that a large \\npropor�on of the UK popula�on has experienced harm online and that the impact of online harms \\ncan, in cases, be extremely severe. Our assessment demonstrates that women, children and groups \\nwith protected characteris�cs are especially likely to be exposed to harm online. Assessing risk \\nWe are consul�ng on the guidance we propose to give about how regulated stakeholders should \\nassess the risk of illegal harm taking place on their services (the ‘Risk Assessment Guidance’), as well \\nas on our proposals about the governance services should put in place to manage risks. This \\ndocument also consults on guidance about how services should keep adequate records of their risk \\nassessments. Services should undertake a robust and comprehensive risk assessment. More specifically, we \\npropose that providers should follow the four-step process set out in Figure 1 below when assessing \\nthe risk of illegal content on their services. We are also proposing that services take several steps to ensure that they have strong governance \\nprocedures in place to mi�gate the risks associated with illegal content. For example, we are \\nproposing that senior governance bodies at large services review the service’s risk management \\nac�vi�es related to online safety at least annually and that all services iden�fy a named senior \\nexecu�ve who is accountable for compliance with the online safety du�es. 2 \\n \\n\\nFigure 1: Proposed four-step process for illegal content risk assessment \\n\\n \\n\\nMitigating risk \\nWe are consul�ng on our illegal harms Codes of Prac�ce, laying out recommended measures that \\nregulated services can take to mi�gate the risk of illegal harm. While the Codes are not binding, and \\nso services can choose to take a different approach to mee�ng their du�es, they act as a ‘safe \\nharbour’. This means any service that implements the recommenda�ons in the Codes would be \\ndeemed to be compliant with its related safety du�es. In the codes we propose to recommend that services put in place a series of measures which, taken \\ntogether, will help combat all of the priority illegal harms in scope of the Act. These measures \\ninclude: \\n\\n• ensuring content modera�on teams are appropriately resourced and trained;  \\n• having easy-to-use systems for users to report poten�ally illegal content and make \\n\\ncomplaints;  \\n• allowing users to block other users or disable comments;  \\n• conduc�ng tests when they update their algorithms that recommend content to users \\n\\n(‘recommender systems’) to assess the risk that the changes would increase the \\ndissemina�on of illegal content; and \\n\\n• a series of recommended steps to make their terms and condi�ons clear and accessible. In addi�on to these cross-cu�ng measures, we propose that relevant services should take a series of \\ntargeted steps to combat Child Sexual Exploita�on and Abuse (CSEA), fraud and terrorism. These \\ntargeted steps include: \\n\\n• Using a technology called ‘hash matching’ to detect and remove known CSAM (Child Sexual \\nAbuse Material). Consistent with the restric�ons in the Act, this proposal does not apply to \\nprivate communica�ons or end-to-end encrypted communica�ons. We are not making any \\nproposals that would involve breaking encryp�on. However, end-to-end encrypted services \\nare s�ll subject to all the safety du�es set out in the Act and will s�ll need to take steps to \\nmi�gate risks of CSAM on their services; \\n\\n• Taking steps to make it harder for perpetrators to groom children online. For example, \\nconfiguring default se�ngs so that children do not appear in lists sugges�ng other users \\nconnect with them; \\n \\n\\n• Deploying keyword detec�on systems to help find and remove posts linked to the sale of \\nstolen creden�als.'"
      ]
     },
     "execution_count": 60,
     "metadata": {},
     "output_type": "execute_result"
    }
   ],
   "source": [
    "chunks[0].page_content"
   ]
  },
  {
   "cell_type": "code",
   "execution_count": null,
   "metadata": {},
   "outputs": [
    {
     "data": {
      "text/plain": [
       "{'\\n\\n\\n\\n\\n\\n\\n\\n\\n\\n\\n\\n\\n\\n\\n\\n\\n\\n\\n\\n\\n\\n\\n\\n\\n\\n\\n\\n\\n\\n\\n\\n\\n\\n\\n\\n\\n\\nOverview\\n\\n\\n \\n\\n \\n\\n \\n \\n\\nOverview \\nThis document is the first of four major consulta�ons that Ofcom, as appointed regulator of the \\nnew Online Safety Act (‘the Act’), will publish as part of our work to establish the new regula�ons \\nover the next 18 months. It focuses on our proposals for how internet services which enable the sharing of user generated \\ncontent (‘user-to-user’ or ‘U2U’ services) and search services should approach their new du�es \\nrela�ng to illegal content. It covers the following areas: the causes and impacts of illegal harms; how \\nservices should assess and mi�gate the risks of illegal harms; how services can iden�fy illegal \\ncontent; and our approach to enforcement. The proposals in this document reflect research we have conducted over the past three years as well \\nas informa�on and evidence gathered through extensive engagement with industry and other \\nexperts. Causes and impacts of illegal harms \\nWe are consul�ng on our assessment of how the priority illegal harms covered by the Act manifest \\nonline, what factors give rise to a risk of these harms and what the impact of the harms is. This \\nanalysis underlines the need for services to take ac�on to combat online harms. It shows that a large \\npropor�on of the UK popula�on has experienced harm online and that the impact of online harms \\ncan, in cases, be extremely severe. Our assessment demonstrates that women, children and groups \\nwith protected characteris�cs are especially likely to be exposed to harm online. Assessing risk \\nWe are consul�ng on the guidance we propose to give about how regulated stakeholders should \\nassess the risk of illegal harm taking place on their services (the ‘Risk Assessment Guidance’), as well \\nas on our proposals about the governance services should put in place to manage risks. This \\ndocument also consults on guidance about how services should keep adequate records of their risk \\nassessments. Services should undertake a robust and comprehensive risk assessment. More specifically, we \\npropose that providers should follow the four-step process set out in Figure 1 below when assessing \\nthe risk of illegal content on their services. We are also proposing that services take several steps to ensure that they have strong governance \\nprocedures in place to mi�gate the risks associated with illegal content. For example, we are \\nproposing that senior governance bodies at large services review the service’s risk management \\nac�vi�es related to online safety at least annually and that all services iden�fy a named senior \\nexecu�ve who is accountable for compliance with the online safety du�es. 2 \\n \\n\\nFigure 1: Proposed four-step process for illegal content risk assessment \\n\\n \\n\\nMitigating risk \\nWe are consul�ng on our illegal harms Codes of Prac�ce, laying out recommended measures that \\nregulated services can take to mi�gate the risk of illegal harm. While the Codes are not binding, and \\nso services can choose to take a different approach to mee�ng their du�es, they act as a ‘safe \\nharbour’. This means any service that implements the recommenda�ons in the Codes would be \\ndeemed to be compliant with its related safety du�es. In the codes we propose to recommend that services put in place a series of measures which, taken \\ntogether, will help combat all of the priority illegal harms in scope of the Act. These measures \\ninclude: \\n\\n• ensuring content modera�on teams are appropriately resourced and trained;  \\n• having easy-to-use systems for users to report poten�ally illegal content and make \\n\\ncomplaints;  \\n• allowing users to block other users or disable comments;  \\n• conduc�ng tests when they update their algorithms that recommend content to users \\n\\n(‘recommender systems’) to assess the risk that the changes would increase the \\ndissemina�on of illegal content; and \\n\\n• a series of recommended steps to make their terms and condi�ons clear and accessible. In addi�on to these cross-cu�ng measures, we propose that relevant services should take a series of \\ntargeted steps to combat Child Sexual Exploita�on and Abuse (CSEA), fraud and terrorism. These \\ntargeted steps include: \\n\\n• Using a technology called ‘hash matching’ to detect and remove known CSAM (Child Sexual \\nAbuse Material). Consistent with the restric�ons in the Act, this proposal does not apply to \\nprivate communica�ons or end-to-end encrypted communica�ons. We are not making any \\nproposals that would involve breaking encryp�on. However, end-to-end encrypted services \\nare s�ll subject to all the safety du�es set out in the Act and will s�ll need to take steps to \\nmi�gate risks of CSAM on their services; \\n\\n• Taking steps to make it harder for perpetrators to groom children online. For example, \\nconfiguring default se�ngs so that children do not appear in lists sugges�ng other users \\nconnect with them; \\n \\n\\n• Deploying keyword detec�on systems to help find and remove posts linked to the sale of \\nstolen creden�als.': [],\n",
       " 'This should help prevent atempts to commit fraud online. We are also \\nrecommending large and high-risk services have dedicated fraud repor�ng channels; \\n\\n\\n\\n \\n\\n \\n\\n3 \\n \\n\\n• Where services operate account verifica�on schemes, they should be transparent about the \\nsteps they are taking to verify accounts. This is aimed at reducing the risk of users being \\ndeceived by posts on fake accounts and should help address fraud and foreign interference in \\nUK processes such as elec�ons; and \\n\\n• Blocking accounts run by banned terrorist organisa�ons. Our analysis suggests that, taken together, these measures will be an effec�ve and propor�onate \\nmeans of tackling the priority illegal harms in scope of the Act.': [],\n",
       " 'Some of the proposals set out in this \\nconsulta�on would apply to all services. However, we are targe�ng many of the more onerous \\nproposals only at services which are large and/or high risk. We provide a full list of all the measures \\nwe are proposing and who they would apply to in our “consulta�on at a glance” which is published \\nalongside this consulta�on. Our proposals will make a contribu�on to comba�ng violence against women and girls online, \\nincluding by se�ng out how services should assess their risk of coercive and controlling behaviour, \\nstalking, harassment and threats, and in�mate image abuse. Our proposals for cross-cu�ng \\nmeasures and some harm specific measures will begin to mi�gate these risks. However, we recognise \\nthat more work is needed in this area, and we will be publishing dra� guidance on how services can \\ncombat violence against women and girls in early 2025. Identifying illegal content \\nA new legal requirement of the Act is for all services to swi�ly take down specific illegal content \\nwhen they become aware of it. Today we are consul�ng on our Illegal Content Judgements Guidance \\n(‘ICJG’). This will provide guidance to services on how they can iden�fy whether a piece of content is \\nlikely to be illegal. Enforcement \\nThe Act gives us significant enforcement powers in the event of non-compliance, including the ability \\nto issue fines of up £18m or up to 10% of the service’s qualifying worldwide revenue (whichever is \\ngreater) and to apply for a court order requiring an internet service provider to withdraw access to \\nthe service to prevent a significant risk of harm to UK users as a result of its failure. 4 \\n \\n\\nNext steps \\nWe welcome comments from stakeholders in response to the proposals set out in this document, \\nincluding any further evidence and suppor�ng informa�on to inform our final decisions.': [],\n",
       " 'The \\nconsulta�on closes on 23 February 2024, and we invite stakeholders to provide responses by this \\ndate. This is also a statutory consulta�on under the Act, and we will engage with specific statutory \\nconsultees through the consulta�on process. For further details of the process for making Codes and \\nguidance, please refer to our Legal Framework (Annex 12). To improve the accessibility of our consulta�on, we are also publishing a “chapter summaries” \\ndocument. It explains what each chapter is about, what proposals we are making, why we are \\nmaking them and what input we would appreciate from stakeholders. Chapter 1 of this document (Introduc�on) provides further informa�on on how services can use and \\nnavigate the document. Annexes 1-4 explain our approach to consulta�ons and how stakeholders \\ncan respond to this consulta�on. Once the consulta�on closes, we will consider stakeholder responses, review our proposals, and \\npublish a statement se�ng out our final decisions in rela�on to our consulta�on proposals, including \\nfinal versions of our guidance and Codes. We currently plan to publish our Statement in Winter 2024. Following our Statement, services will \\nhave three months to conduct their risk assessment. The Codes will also be subject to a \\nparliamentary approval process. We expect this process to conclude by the end of 2024 at which \\npoint the Codes will come into force. This is one of a number of major consulta�ons we will publish as over the next 12-18 months as we \\nput the new online safety regula�ons in place. We provide more detail on our roadmap for \\nimplemen�ng the Online Safety Act at the following link: Crea�ng a safer life online for people in the \\nUK. https://www.ofcom.org.uk/news-centre/2023/safer-life-online-for-people-in-uk\\nhttps://www.ofcom.org.uk/news-centre/2023/safer-life-online-for-people-in-uk\\n\\n\\tOverview\\n\\tCauses and impacts of illegal harms\\n\\tAssessing risk\\n\\tMitigating risk\\n\\tIdentifying illegal content\\n\\tEnforcement\\n\\tNext steps\\n\\n\\n': []}"
      ]
     },
     "execution_count": 57,
     "metadata": {},
     "output_type": "execute_result"
    }
   ],
   "source": [
    "strored_chunk"
   ]
  },
  {
   "cell_type": "markdown",
   "metadata": {},
   "source": [
    "# Upload output back to json files"
   ]
  },
  {
   "cell_type": "code",
   "execution_count": null,
   "metadata": {},
   "outputs": [],
   "source": [
    "tagged_output = output_folder + \"/infer_output.json\"\n",
    "with open(tagged_output, \"w\") as tagged_par: \n",
    "    json.dump(res, tagged_par, indent = 4)"
   ]
  },
  {
   "cell_type": "code",
   "execution_count": null,
   "metadata": {},
   "outputs": [],
   "source": [
    "# NEXT STEPS:\n",
    "\n",
    "# 0) Add topic name to json\n",
    "# 1) Adapt code into class\n",
    "# 2) Run code for top 3 topics (anything over 200 class 1 data points)\n",
    "# 3) Show Lolu json files (and code for reference)\n",
    "# 4) Fix and tidy Git and then move code to main Consul repo"
   ]
  },
  {
   "cell_type": "code",
   "execution_count": null,
   "metadata": {},
   "outputs": [
    {
     "name": "stdout",
     "output_type": "stream",
     "text": [
      "False\n"
     ]
    },
    {
     "name": "stderr",
     "output_type": "stream",
     "text": [
      "/anaconda/envs/llm_parser/lib/python3.12/site-packages/torch/cuda/__init__.py:628: UserWarning: Can't initialize NVML\n",
      "  warnings.warn(\"Can't initialize NVML\")\n"
     ]
    },
    {
     "name": "stdout",
     "output_type": "stream",
     "text": [
      "0\n"
     ]
    },
    {
     "ename": "RuntimeError",
     "evalue": "No CUDA GPUs are available",
     "output_type": "error",
     "traceback": [
      "\u001b[0;31m---------------------------------------------------------------------------\u001b[0m",
      "\u001b[0;31mRuntimeError\u001b[0m                              Traceback (most recent call last)",
      "Cell \u001b[0;32mIn[23], line 5\u001b[0m\n\u001b[1;32m      3\u001b[0m \u001b[38;5;28mprint\u001b[39m(torch\u001b[38;5;241m.\u001b[39mcuda\u001b[38;5;241m.\u001b[39mis_available())  \u001b[38;5;66;03m# Should return True if a GPU is available\u001b[39;00m\n\u001b[1;32m      4\u001b[0m \u001b[38;5;28mprint\u001b[39m(torch\u001b[38;5;241m.\u001b[39mcuda\u001b[38;5;241m.\u001b[39mdevice_count())  \u001b[38;5;66;03m# Number of available GPUs\u001b[39;00m\n\u001b[0;32m----> 5\u001b[0m \u001b[38;5;28mprint\u001b[39m(\u001b[43mtorch\u001b[49m\u001b[38;5;241;43m.\u001b[39;49m\u001b[43mcuda\u001b[49m\u001b[38;5;241;43m.\u001b[39;49m\u001b[43mcurrent_device\u001b[49m\u001b[43m(\u001b[49m\u001b[43m)\u001b[49m)  \u001b[38;5;66;03m# The current device index (usually 0)\u001b[39;00m\n\u001b[1;32m      6\u001b[0m \u001b[38;5;28mprint\u001b[39m(torch\u001b[38;5;241m.\u001b[39mcuda\u001b[38;5;241m.\u001b[39mget_device_name(\u001b[38;5;241m0\u001b[39m))  \u001b[38;5;66;03m# The name of the device (e.g., 'NVIDIA GeForce GTX 1080 Ti')\u001b[39;00m\n",
      "File \u001b[0;32m/anaconda/envs/llm_parser/lib/python3.12/site-packages/torch/cuda/__init__.py:787\u001b[0m, in \u001b[0;36mcurrent_device\u001b[0;34m()\u001b[0m\n\u001b[1;32m    785\u001b[0m \u001b[38;5;28;01mdef\u001b[39;00m \u001b[38;5;21mcurrent_device\u001b[39m() \u001b[38;5;241m-\u001b[39m\u001b[38;5;241m>\u001b[39m \u001b[38;5;28mint\u001b[39m:\n\u001b[1;32m    786\u001b[0m \u001b[38;5;250m    \u001b[39m\u001b[38;5;124mr\u001b[39m\u001b[38;5;124;03m\"\"\"Return the index of a currently selected device.\"\"\"\u001b[39;00m\n\u001b[0;32m--> 787\u001b[0m     \u001b[43m_lazy_init\u001b[49m\u001b[43m(\u001b[49m\u001b[43m)\u001b[49m\n\u001b[1;32m    788\u001b[0m     \u001b[38;5;28;01mreturn\u001b[39;00m torch\u001b[38;5;241m.\u001b[39m_C\u001b[38;5;241m.\u001b[39m_cuda_getDevice()\n",
      "File \u001b[0;32m/anaconda/envs/llm_parser/lib/python3.12/site-packages/torch/cuda/__init__.py:302\u001b[0m, in \u001b[0;36m_lazy_init\u001b[0;34m()\u001b[0m\n\u001b[1;32m    300\u001b[0m \u001b[38;5;28;01mif\u001b[39;00m \u001b[38;5;124m\"\u001b[39m\u001b[38;5;124mCUDA_MODULE_LOADING\u001b[39m\u001b[38;5;124m\"\u001b[39m \u001b[38;5;129;01mnot\u001b[39;00m \u001b[38;5;129;01min\u001b[39;00m os\u001b[38;5;241m.\u001b[39menviron:\n\u001b[1;32m    301\u001b[0m     os\u001b[38;5;241m.\u001b[39menviron[\u001b[38;5;124m\"\u001b[39m\u001b[38;5;124mCUDA_MODULE_LOADING\u001b[39m\u001b[38;5;124m\"\u001b[39m] \u001b[38;5;241m=\u001b[39m \u001b[38;5;124m\"\u001b[39m\u001b[38;5;124mLAZY\u001b[39m\u001b[38;5;124m\"\u001b[39m\n\u001b[0;32m--> 302\u001b[0m \u001b[43mtorch\u001b[49m\u001b[38;5;241;43m.\u001b[39;49m\u001b[43m_C\u001b[49m\u001b[38;5;241;43m.\u001b[39;49m\u001b[43m_cuda_init\u001b[49m\u001b[43m(\u001b[49m\u001b[43m)\u001b[49m\n\u001b[1;32m    303\u001b[0m \u001b[38;5;66;03m# Some of the queued calls may reentrantly call _lazy_init();\u001b[39;00m\n\u001b[1;32m    304\u001b[0m \u001b[38;5;66;03m# we need to just return without initializing in that case.\u001b[39;00m\n\u001b[1;32m    305\u001b[0m \u001b[38;5;66;03m# However, we must not let any *other* threads in!\u001b[39;00m\n\u001b[1;32m    306\u001b[0m _tls\u001b[38;5;241m.\u001b[39mis_initializing \u001b[38;5;241m=\u001b[39m \u001b[38;5;28;01mTrue\u001b[39;00m\n",
      "\u001b[0;31mRuntimeError\u001b[0m: No CUDA GPUs are available"
     ]
    }
   ],
   "source": [
    "import torch\n",
    "\n",
    "print(torch.cuda.is_available())  # Should return True if a GPU is available\n",
    "print(torch.cuda.device_count())  # Number of available GPUs\n",
    "print(torch.cuda.current_device())  # The current device index (usually 0)\n",
    "print(torch.cuda.get_device_name(0))  # The name of the device (e.g., 'NVIDIA GeForce GTX 1080 Ti')"
   ]
  }
 ],
 "metadata": {
  "kernelspec": {
   "display_name": "mars2",
   "language": "python",
   "name": "python3"
  },
  "language_info": {
   "codemirror_mode": {
    "name": "ipython",
    "version": 3
   },
   "file_extension": ".py",
   "mimetype": "text/x-python",
   "name": "python",
   "nbconvert_exporter": "python",
   "pygments_lexer": "ipython3",
   "version": "3.12.1"
  }
 },
 "nbformat": 4,
 "nbformat_minor": 2
}
