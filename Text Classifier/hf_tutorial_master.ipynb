{
 "cells": [
  {
   "cell_type": "code",
   "execution_count": 3,
   "metadata": {},
   "outputs": [
    {
     "name": "stderr",
     "output_type": "stream",
     "text": [
      "Some weights of the PyTorch model were not used when initializing the TF 2.0 model TFDistilBertForSequenceClassification: ['vocab_layer_norm.bias', 'vocab_layer_norm.weight', 'vocab_transform.bias', 'vocab_transform.weight', 'vocab_projector.bias']\n",
      "- This IS expected if you are initializing TFDistilBertForSequenceClassification from a PyTorch model trained on another task or with another architecture (e.g. initializing a TFBertForSequenceClassification model from a BertForPreTraining model).\n",
      "- This IS NOT expected if you are initializing TFDistilBertForSequenceClassification from a PyTorch model that you expect to be exactly identical (e.g. initializing a TFBertForSequenceClassification model from a BertForSequenceClassification model).\n",
      "Some weights or buffers of the TF 2.0 model TFDistilBertForSequenceClassification were not initialized from the PyTorch model and are newly initialized: ['pre_classifier.weight', 'pre_classifier.bias', 'classifier.weight', 'classifier.bias']\n",
      "You should probably TRAIN this model on a down-stream task to be able to use it for predictions and inference.\n"
     ]
    },
    {
     "name": "stdout",
     "output_type": "stream",
     "text": [
      "Epoch 1/3\n"
     ]
    },
    {
     "name": "stderr",
     "output_type": "stream",
     "text": [
      "2024-05-01 11:10:47.820549: W tensorflow/core/framework/local_rendezvous.cc:404] Local rendezvous is aborting with status: INVALID_ARGUMENT: indices[0,973] = 973 is not in [0, 512)\n",
      "\t [[{{node tf_distil_bert_for_sequence_classification_2/distilbert/embeddings/Gather_1}}]]\n"
     ]
    },
    {
     "ename": "InvalidArgumentError",
     "evalue": "Graph execution error:\n\nDetected at node tf_distil_bert_for_sequence_classification_2/distilbert/embeddings/Gather_1 defined at (most recent call last):\n  File \"<frozen runpy>\", line 198, in _run_module_as_main\n\n  File \"<frozen runpy>\", line 88, in _run_code\n\n  File \"/anaconda/envs/llm_parser/lib/python3.12/site-packages/ipykernel_launcher.py\", line 18, in <module>\n\n  File \"/anaconda/envs/llm_parser/lib/python3.12/site-packages/traitlets/config/application.py\", line 1075, in launch_instance\n\n  File \"/anaconda/envs/llm_parser/lib/python3.12/site-packages/ipykernel/kernelapp.py\", line 739, in start\n\n  File \"/anaconda/envs/llm_parser/lib/python3.12/site-packages/tornado/platform/asyncio.py\", line 195, in start\n\n  File \"/anaconda/envs/llm_parser/lib/python3.12/asyncio/base_events.py\", line 638, in run_forever\n\n  File \"/anaconda/envs/llm_parser/lib/python3.12/asyncio/base_events.py\", line 1971, in _run_once\n\n  File \"/anaconda/envs/llm_parser/lib/python3.12/asyncio/events.py\", line 84, in _run\n\n  File \"/anaconda/envs/llm_parser/lib/python3.12/site-packages/ipykernel/kernelbase.py\", line 542, in dispatch_queue\n\n  File \"/anaconda/envs/llm_parser/lib/python3.12/site-packages/ipykernel/kernelbase.py\", line 531, in process_one\n\n  File \"/anaconda/envs/llm_parser/lib/python3.12/site-packages/ipykernel/kernelbase.py\", line 437, in dispatch_shell\n\n  File \"/anaconda/envs/llm_parser/lib/python3.12/site-packages/ipykernel/ipkernel.py\", line 359, in execute_request\n\n  File \"/anaconda/envs/llm_parser/lib/python3.12/site-packages/ipykernel/kernelbase.py\", line 775, in execute_request\n\n  File \"/anaconda/envs/llm_parser/lib/python3.12/site-packages/ipykernel/ipkernel.py\", line 446, in do_execute\n\n  File \"/anaconda/envs/llm_parser/lib/python3.12/site-packages/ipykernel/zmqshell.py\", line 549, in run_cell\n\n  File \"/anaconda/envs/llm_parser/lib/python3.12/site-packages/IPython/core/interactiveshell.py\", line 3075, in run_cell\n\n  File \"/anaconda/envs/llm_parser/lib/python3.12/site-packages/IPython/core/interactiveshell.py\", line 3130, in _run_cell\n\n  File \"/anaconda/envs/llm_parser/lib/python3.12/site-packages/IPython/core/async_helpers.py\", line 129, in _pseudo_sync_runner\n\n  File \"/anaconda/envs/llm_parser/lib/python3.12/site-packages/IPython/core/interactiveshell.py\", line 3334, in run_cell_async\n\n  File \"/anaconda/envs/llm_parser/lib/python3.12/site-packages/IPython/core/interactiveshell.py\", line 3517, in run_ast_nodes\n\n  File \"/anaconda/envs/llm_parser/lib/python3.12/site-packages/IPython/core/interactiveshell.py\", line 3577, in run_code\n\n  File \"/tmp/ipykernel_19980/864419961.py\", line 64, in <module>\n\n  File \"/anaconda/envs/llm_parser/lib/python3.12/site-packages/transformers/modeling_tf_utils.py\", line 1161, in fit\n\n  File \"/anaconda/envs/llm_parser/lib/python3.12/site-packages/tf_keras/src/utils/traceback_utils.py\", line 65, in error_handler\n\n  File \"/anaconda/envs/llm_parser/lib/python3.12/site-packages/tf_keras/src/engine/training.py\", line 1804, in fit\n\n  File \"/anaconda/envs/llm_parser/lib/python3.12/site-packages/tf_keras/src/engine/training.py\", line 1398, in train_function\n\n  File \"/anaconda/envs/llm_parser/lib/python3.12/site-packages/tf_keras/src/engine/training.py\", line 1381, in step_function\n\n  File \"/anaconda/envs/llm_parser/lib/python3.12/site-packages/tf_keras/src/engine/training.py\", line 1370, in run_step\n\n  File \"/anaconda/envs/llm_parser/lib/python3.12/site-packages/transformers/modeling_tf_utils.py\", line 1601, in train_step\n\n  File \"/anaconda/envs/llm_parser/lib/python3.12/site-packages/transformers/modeling_tf_utils.py\", line 1604, in train_step\n\n  File \"/anaconda/envs/llm_parser/lib/python3.12/site-packages/tf_keras/src/engine/training.py\", line 553, in error_handler\n\n  File \"/anaconda/envs/llm_parser/lib/python3.12/site-packages/tf_keras/src/engine/training.py\", line 558, in error_handler\n\n  File \"/anaconda/envs/llm_parser/lib/python3.12/site-packages/tf_keras/src/engine/training.py\", line 588, in __call__\n\n  File \"/anaconda/envs/llm_parser/lib/python3.12/site-packages/tf_keras/src/engine/training.py\", line 553, in error_handler\n\n  File \"/anaconda/envs/llm_parser/lib/python3.12/site-packages/tf_keras/src/engine/training.py\", line 558, in error_handler\n\n  File \"/anaconda/envs/llm_parser/lib/python3.12/site-packages/tf_keras/src/engine/base_layer.py\", line 1047, in __call__\n\n  File \"/anaconda/envs/llm_parser/lib/python3.12/site-packages/tf_keras/src/engine/base_layer.py\", line 1136, in __call__\n\n  File \"/tmp/__autograph_generated_filedobdci_l.py\", line 34, in error_handler\n\n  File \"/anaconda/envs/llm_parser/lib/python3.12/site-packages/transformers/modeling_tf_utils.py\", line 812, in run_call_with_unpacked_inputs\n\n  File \"/anaconda/envs/llm_parser/lib/python3.12/site-packages/transformers/models/distilbert/modeling_tf_distilbert.py\", line 820, in call\n\n  File \"/anaconda/envs/llm_parser/lib/python3.12/site-packages/tf_keras/src/engine/training.py\", line 553, in error_handler\n\n  File \"/anaconda/envs/llm_parser/lib/python3.12/site-packages/tf_keras/src/engine/training.py\", line 558, in error_handler\n\n  File \"/anaconda/envs/llm_parser/lib/python3.12/site-packages/tf_keras/src/engine/base_layer.py\", line 1047, in __call__\n\n  File \"/anaconda/envs/llm_parser/lib/python3.12/site-packages/tf_keras/src/engine/base_layer.py\", line 1136, in __call__\n\n  File \"/tmp/__autograph_generated_filedobdci_l.py\", line 34, in error_handler\n\n  File \"/anaconda/envs/llm_parser/lib/python3.12/site-packages/transformers/modeling_tf_utils.py\", line 812, in run_call_with_unpacked_inputs\n\n  File \"/anaconda/envs/llm_parser/lib/python3.12/site-packages/transformers/models/distilbert/modeling_tf_distilbert.py\", line 465, in call\n\n  File \"/anaconda/envs/llm_parser/lib/python3.12/site-packages/tf_keras/src/engine/training.py\", line 553, in error_handler\n\n  File \"/anaconda/envs/llm_parser/lib/python3.12/site-packages/tf_keras/src/engine/training.py\", line 558, in error_handler\n\n  File \"/anaconda/envs/llm_parser/lib/python3.12/site-packages/tf_keras/src/engine/base_layer.py\", line 1047, in __call__\n\n  File \"/anaconda/envs/llm_parser/lib/python3.12/site-packages/tf_keras/src/engine/base_layer.py\", line 1136, in __call__\n\n  File \"/tmp/__autograph_generated_filedobdci_l.py\", line 34, in error_handler\n\n  File \"/anaconda/envs/llm_parser/lib/python3.12/site-packages/transformers/models/distilbert/modeling_tf_distilbert.py\", line 128, in call\n\nindices[0,973] = 973 is not in [0, 512)\n\t [[{{node tf_distil_bert_for_sequence_classification_2/distilbert/embeddings/Gather_1}}]] [Op:__inference_train_function_53096]",
     "output_type": "error",
     "traceback": [
      "\u001b[0;31m---------------------------------------------------------------------------\u001b[0m",
      "\u001b[0;31mInvalidArgumentError\u001b[0m                      Traceback (most recent call last)",
      "Cell \u001b[0;32mIn[3], line 64\u001b[0m\n\u001b[1;32m     53\u001b[0m model\u001b[38;5;241m.\u001b[39mcompile(optimizer\u001b[38;5;241m=\u001b[39moptimizer)  \u001b[38;5;66;03m# No loss argument!\u001b[39;00m\n\u001b[1;32m     54\u001b[0m \u001b[38;5;66;03m# from transformers.keras_callbacks import KerasMetricCallback\u001b[39;00m\n\u001b[1;32m     55\u001b[0m \n\u001b[1;32m     56\u001b[0m \u001b[38;5;66;03m# metric_callback = KerasMetricCallback(metric_fn=compute_metrics, eval_dataset=tf_validation_set)\u001b[39;00m\n\u001b[0;32m   (...)\u001b[0m\n\u001b[1;32m     62\u001b[0m \u001b[38;5;66;03m# )\u001b[39;00m\n\u001b[1;32m     63\u001b[0m \u001b[38;5;66;03m# callbacks = [metric_callback, push_to_hub_callback]\u001b[39;00m\n\u001b[0;32m---> 64\u001b[0m \u001b[43mmodel\u001b[49m\u001b[38;5;241;43m.\u001b[39;49m\u001b[43mfit\u001b[49m\u001b[43m(\u001b[49m\u001b[43mx\u001b[49m\u001b[38;5;241;43m=\u001b[39;49m\u001b[43mtf_train_set\u001b[49m\u001b[43m,\u001b[49m\u001b[43m \u001b[49m\u001b[43mvalidation_data\u001b[49m\u001b[38;5;241;43m=\u001b[39;49m\u001b[43mtf_validation_set\u001b[49m\u001b[43m,\u001b[49m\u001b[43m \u001b[49m\u001b[43mepochs\u001b[49m\u001b[38;5;241;43m=\u001b[39;49m\u001b[38;5;241;43m3\u001b[39;49m\u001b[43m)\u001b[49m\n",
      "File \u001b[0;32m/anaconda/envs/llm_parser/lib/python3.12/site-packages/transformers/modeling_tf_utils.py:1161\u001b[0m, in \u001b[0;36mTFPreTrainedModel.fit\u001b[0;34m(self, *args, **kwargs)\u001b[0m\n\u001b[1;32m   1158\u001b[0m \u001b[38;5;129m@functools\u001b[39m\u001b[38;5;241m.\u001b[39mwraps(keras\u001b[38;5;241m.\u001b[39mModel\u001b[38;5;241m.\u001b[39mfit)\n\u001b[1;32m   1159\u001b[0m \u001b[38;5;28;01mdef\u001b[39;00m \u001b[38;5;21mfit\u001b[39m(\u001b[38;5;28mself\u001b[39m, \u001b[38;5;241m*\u001b[39margs, \u001b[38;5;241m*\u001b[39m\u001b[38;5;241m*\u001b[39mkwargs):\n\u001b[1;32m   1160\u001b[0m     args, kwargs \u001b[38;5;241m=\u001b[39m convert_batch_encoding(\u001b[38;5;241m*\u001b[39margs, \u001b[38;5;241m*\u001b[39m\u001b[38;5;241m*\u001b[39mkwargs)\n\u001b[0;32m-> 1161\u001b[0m     \u001b[38;5;28;01mreturn\u001b[39;00m \u001b[38;5;28;43msuper\u001b[39;49m\u001b[43m(\u001b[49m\u001b[43m)\u001b[49m\u001b[38;5;241;43m.\u001b[39;49m\u001b[43mfit\u001b[49m\u001b[43m(\u001b[49m\u001b[38;5;241;43m*\u001b[39;49m\u001b[43margs\u001b[49m\u001b[43m,\u001b[49m\u001b[43m \u001b[49m\u001b[38;5;241;43m*\u001b[39;49m\u001b[38;5;241;43m*\u001b[39;49m\u001b[43mkwargs\u001b[49m\u001b[43m)\u001b[49m\n",
      "File \u001b[0;32m/anaconda/envs/llm_parser/lib/python3.12/site-packages/tf_keras/src/utils/traceback_utils.py:70\u001b[0m, in \u001b[0;36mfilter_traceback.<locals>.error_handler\u001b[0;34m(*args, **kwargs)\u001b[0m\n\u001b[1;32m     67\u001b[0m     filtered_tb \u001b[38;5;241m=\u001b[39m _process_traceback_frames(e\u001b[38;5;241m.\u001b[39m__traceback__)\n\u001b[1;32m     68\u001b[0m     \u001b[38;5;66;03m# To get the full stack trace, call:\u001b[39;00m\n\u001b[1;32m     69\u001b[0m     \u001b[38;5;66;03m# `tf.debugging.disable_traceback_filtering()`\u001b[39;00m\n\u001b[0;32m---> 70\u001b[0m     \u001b[38;5;28;01mraise\u001b[39;00m e\u001b[38;5;241m.\u001b[39mwith_traceback(filtered_tb) \u001b[38;5;28;01mfrom\u001b[39;00m \u001b[38;5;28;01mNone\u001b[39;00m\n\u001b[1;32m     71\u001b[0m \u001b[38;5;28;01mfinally\u001b[39;00m:\n\u001b[1;32m     72\u001b[0m     \u001b[38;5;28;01mdel\u001b[39;00m filtered_tb\n",
      "File \u001b[0;32m/anaconda/envs/llm_parser/lib/python3.12/site-packages/tensorflow/python/eager/execute.py:53\u001b[0m, in \u001b[0;36mquick_execute\u001b[0;34m(op_name, num_outputs, inputs, attrs, ctx, name)\u001b[0m\n\u001b[1;32m     51\u001b[0m \u001b[38;5;28;01mtry\u001b[39;00m:\n\u001b[1;32m     52\u001b[0m   ctx\u001b[38;5;241m.\u001b[39mensure_initialized()\n\u001b[0;32m---> 53\u001b[0m   tensors \u001b[38;5;241m=\u001b[39m pywrap_tfe\u001b[38;5;241m.\u001b[39mTFE_Py_Execute(ctx\u001b[38;5;241m.\u001b[39m_handle, device_name, op_name,\n\u001b[1;32m     54\u001b[0m                                       inputs, attrs, num_outputs)\n\u001b[1;32m     55\u001b[0m \u001b[38;5;28;01mexcept\u001b[39;00m core\u001b[38;5;241m.\u001b[39m_NotOkStatusException \u001b[38;5;28;01mas\u001b[39;00m e:\n\u001b[1;32m     56\u001b[0m   \u001b[38;5;28;01mif\u001b[39;00m name \u001b[38;5;129;01mis\u001b[39;00m \u001b[38;5;129;01mnot\u001b[39;00m \u001b[38;5;28;01mNone\u001b[39;00m:\n",
      "\u001b[0;31mInvalidArgumentError\u001b[0m: Graph execution error:\n\nDetected at node tf_distil_bert_for_sequence_classification_2/distilbert/embeddings/Gather_1 defined at (most recent call last):\n  File \"<frozen runpy>\", line 198, in _run_module_as_main\n\n  File \"<frozen runpy>\", line 88, in _run_code\n\n  File \"/anaconda/envs/llm_parser/lib/python3.12/site-packages/ipykernel_launcher.py\", line 18, in <module>\n\n  File \"/anaconda/envs/llm_parser/lib/python3.12/site-packages/traitlets/config/application.py\", line 1075, in launch_instance\n\n  File \"/anaconda/envs/llm_parser/lib/python3.12/site-packages/ipykernel/kernelapp.py\", line 739, in start\n\n  File \"/anaconda/envs/llm_parser/lib/python3.12/site-packages/tornado/platform/asyncio.py\", line 195, in start\n\n  File \"/anaconda/envs/llm_parser/lib/python3.12/asyncio/base_events.py\", line 638, in run_forever\n\n  File \"/anaconda/envs/llm_parser/lib/python3.12/asyncio/base_events.py\", line 1971, in _run_once\n\n  File \"/anaconda/envs/llm_parser/lib/python3.12/asyncio/events.py\", line 84, in _run\n\n  File \"/anaconda/envs/llm_parser/lib/python3.12/site-packages/ipykernel/kernelbase.py\", line 542, in dispatch_queue\n\n  File \"/anaconda/envs/llm_parser/lib/python3.12/site-packages/ipykernel/kernelbase.py\", line 531, in process_one\n\n  File \"/anaconda/envs/llm_parser/lib/python3.12/site-packages/ipykernel/kernelbase.py\", line 437, in dispatch_shell\n\n  File \"/anaconda/envs/llm_parser/lib/python3.12/site-packages/ipykernel/ipkernel.py\", line 359, in execute_request\n\n  File \"/anaconda/envs/llm_parser/lib/python3.12/site-packages/ipykernel/kernelbase.py\", line 775, in execute_request\n\n  File \"/anaconda/envs/llm_parser/lib/python3.12/site-packages/ipykernel/ipkernel.py\", line 446, in do_execute\n\n  File \"/anaconda/envs/llm_parser/lib/python3.12/site-packages/ipykernel/zmqshell.py\", line 549, in run_cell\n\n  File \"/anaconda/envs/llm_parser/lib/python3.12/site-packages/IPython/core/interactiveshell.py\", line 3075, in run_cell\n\n  File \"/anaconda/envs/llm_parser/lib/python3.12/site-packages/IPython/core/interactiveshell.py\", line 3130, in _run_cell\n\n  File \"/anaconda/envs/llm_parser/lib/python3.12/site-packages/IPython/core/async_helpers.py\", line 129, in _pseudo_sync_runner\n\n  File \"/anaconda/envs/llm_parser/lib/python3.12/site-packages/IPython/core/interactiveshell.py\", line 3334, in run_cell_async\n\n  File \"/anaconda/envs/llm_parser/lib/python3.12/site-packages/IPython/core/interactiveshell.py\", line 3517, in run_ast_nodes\n\n  File \"/anaconda/envs/llm_parser/lib/python3.12/site-packages/IPython/core/interactiveshell.py\", line 3577, in run_code\n\n  File \"/tmp/ipykernel_19980/864419961.py\", line 64, in <module>\n\n  File \"/anaconda/envs/llm_parser/lib/python3.12/site-packages/transformers/modeling_tf_utils.py\", line 1161, in fit\n\n  File \"/anaconda/envs/llm_parser/lib/python3.12/site-packages/tf_keras/src/utils/traceback_utils.py\", line 65, in error_handler\n\n  File \"/anaconda/envs/llm_parser/lib/python3.12/site-packages/tf_keras/src/engine/training.py\", line 1804, in fit\n\n  File \"/anaconda/envs/llm_parser/lib/python3.12/site-packages/tf_keras/src/engine/training.py\", line 1398, in train_function\n\n  File \"/anaconda/envs/llm_parser/lib/python3.12/site-packages/tf_keras/src/engine/training.py\", line 1381, in step_function\n\n  File \"/anaconda/envs/llm_parser/lib/python3.12/site-packages/tf_keras/src/engine/training.py\", line 1370, in run_step\n\n  File \"/anaconda/envs/llm_parser/lib/python3.12/site-packages/transformers/modeling_tf_utils.py\", line 1601, in train_step\n\n  File \"/anaconda/envs/llm_parser/lib/python3.12/site-packages/transformers/modeling_tf_utils.py\", line 1604, in train_step\n\n  File \"/anaconda/envs/llm_parser/lib/python3.12/site-packages/tf_keras/src/engine/training.py\", line 553, in error_handler\n\n  File \"/anaconda/envs/llm_parser/lib/python3.12/site-packages/tf_keras/src/engine/training.py\", line 558, in error_handler\n\n  File \"/anaconda/envs/llm_parser/lib/python3.12/site-packages/tf_keras/src/engine/training.py\", line 588, in __call__\n\n  File \"/anaconda/envs/llm_parser/lib/python3.12/site-packages/tf_keras/src/engine/training.py\", line 553, in error_handler\n\n  File \"/anaconda/envs/llm_parser/lib/python3.12/site-packages/tf_keras/src/engine/training.py\", line 558, in error_handler\n\n  File \"/anaconda/envs/llm_parser/lib/python3.12/site-packages/tf_keras/src/engine/base_layer.py\", line 1047, in __call__\n\n  File \"/anaconda/envs/llm_parser/lib/python3.12/site-packages/tf_keras/src/engine/base_layer.py\", line 1136, in __call__\n\n  File \"/tmp/__autograph_generated_filedobdci_l.py\", line 34, in error_handler\n\n  File \"/anaconda/envs/llm_parser/lib/python3.12/site-packages/transformers/modeling_tf_utils.py\", line 812, in run_call_with_unpacked_inputs\n\n  File \"/anaconda/envs/llm_parser/lib/python3.12/site-packages/transformers/models/distilbert/modeling_tf_distilbert.py\", line 820, in call\n\n  File \"/anaconda/envs/llm_parser/lib/python3.12/site-packages/tf_keras/src/engine/training.py\", line 553, in error_handler\n\n  File \"/anaconda/envs/llm_parser/lib/python3.12/site-packages/tf_keras/src/engine/training.py\", line 558, in error_handler\n\n  File \"/anaconda/envs/llm_parser/lib/python3.12/site-packages/tf_keras/src/engine/base_layer.py\", line 1047, in __call__\n\n  File \"/anaconda/envs/llm_parser/lib/python3.12/site-packages/tf_keras/src/engine/base_layer.py\", line 1136, in __call__\n\n  File \"/tmp/__autograph_generated_filedobdci_l.py\", line 34, in error_handler\n\n  File \"/anaconda/envs/llm_parser/lib/python3.12/site-packages/transformers/modeling_tf_utils.py\", line 812, in run_call_with_unpacked_inputs\n\n  File \"/anaconda/envs/llm_parser/lib/python3.12/site-packages/transformers/models/distilbert/modeling_tf_distilbert.py\", line 465, in call\n\n  File \"/anaconda/envs/llm_parser/lib/python3.12/site-packages/tf_keras/src/engine/training.py\", line 553, in error_handler\n\n  File \"/anaconda/envs/llm_parser/lib/python3.12/site-packages/tf_keras/src/engine/training.py\", line 558, in error_handler\n\n  File \"/anaconda/envs/llm_parser/lib/python3.12/site-packages/tf_keras/src/engine/base_layer.py\", line 1047, in __call__\n\n  File \"/anaconda/envs/llm_parser/lib/python3.12/site-packages/tf_keras/src/engine/base_layer.py\", line 1136, in __call__\n\n  File \"/tmp/__autograph_generated_filedobdci_l.py\", line 34, in error_handler\n\n  File \"/anaconda/envs/llm_parser/lib/python3.12/site-packages/transformers/models/distilbert/modeling_tf_distilbert.py\", line 128, in call\n\nindices[0,973] = 973 is not in [0, 512)\n\t [[{{node tf_distil_bert_for_sequence_classification_2/distilbert/embeddings/Gather_1}}]] [Op:__inference_train_function_53096]"
     ]
    }
   ],
   "source": [
    "from datasets import load_dataset\n",
    "\n",
    "imdb = load_dataset(\"imdb\")\n",
    "from transformers import AutoTokenizer\n",
    "\n",
    "tokenizer = AutoTokenizer.from_pretrained(\"distilbert/distilbert-base-uncased\")\n",
    "def preprocess_function(examples):\n",
    "    return tokenizer(examples[\"text\"], truncation=True)\n",
    "tokenized_imdb = imdb.map(preprocess_function, batched=True)\n",
    "from transformers import DataCollatorWithPadding\n",
    "\n",
    "data_collator = DataCollatorWithPadding(tokenizer=tokenizer, return_tensors=\"tf\")\n",
    "import evaluate\n",
    "\n",
    "accuracy = evaluate.load(\"accuracy\")\n",
    "import numpy as np\n",
    "\n",
    "\n",
    "def compute_metrics(eval_pred):\n",
    "    predictions, labels = eval_pred\n",
    "    predictions = np.argmax(predictions, axis=1)\n",
    "    return accuracy.compute(predictions=predictions, references=labels)\n",
    "id2label = {0: \"NEGATIVE\", 1: \"POSITIVE\"}\n",
    "label2id = {\"NEGATIVE\": 0, \"POSITIVE\": 1}\n",
    "from transformers import create_optimizer\n",
    "import tensorflow as tf\n",
    "\n",
    "batch_size = 16\n",
    "num_epochs = 5\n",
    "batches_per_epoch = len(tokenized_imdb[\"train\"]) // batch_size\n",
    "total_train_steps = int(batches_per_epoch * num_epochs)\n",
    "optimizer, schedule = create_optimizer(init_lr=2e-5, num_warmup_steps=0, num_train_steps=total_train_steps)\n",
    "from transformers import TFAutoModelForSequenceClassification\n",
    "\n",
    "model = TFAutoModelForSequenceClassification.from_pretrained(\n",
    "    \"distilbert/distilbert-base-uncased\", num_labels=2, id2label=id2label, label2id=label2id\n",
    ")\n",
    "tf_train_set = model.prepare_tf_dataset(\n",
    "    tokenized_imdb[\"train\"],\n",
    "    shuffle=True,\n",
    "    batch_size=16,\n",
    "    collate_fn=data_collator,\n",
    ")\n",
    "\n",
    "tf_validation_set = model.prepare_tf_dataset(\n",
    "    tokenized_imdb[\"test\"],\n",
    "    shuffle=False,\n",
    "    batch_size=16,\n",
    "    collate_fn=data_collator,\n",
    ")\n",
    "import tensorflow as tf\n",
    "\n",
    "model.compile(optimizer=optimizer)  # No loss argument!\n",
    "# from transformers.keras_callbacks import KerasMetricCallback\n",
    "\n",
    "# metric_callback = KerasMetricCallback(metric_fn=compute_metrics, eval_dataset=tf_validation_set)\n",
    "# from transformers.keras_callbacks import PushToHubCallback\n",
    "\n",
    "# push_to_hub_callback = PushToHubCallback(\n",
    "#     output_dir=\"my_awesome_model\",\n",
    "#     tokenizer=tokenizer,\n",
    "# )\n",
    "# callbacks = [metric_callback, push_to_hub_callback]\n",
    "model.fit(x=tf_train_set, validation_data=tf_validation_set, epochs=3)\n"
   ]
  },
  {
   "cell_type": "code",
   "execution_count": null,
   "metadata": {},
   "outputs": [],
   "source": []
  }
 ],
 "metadata": {
  "kernelspec": {
   "display_name": "llm_parser",
   "language": "python",
   "name": "python3"
  },
  "language_info": {
   "codemirror_mode": {
    "name": "ipython",
    "version": 3
   },
   "file_extension": ".py",
   "mimetype": "text/x-python",
   "name": "python",
   "nbconvert_exporter": "python",
   "pygments_lexer": "ipython3",
   "version": "3.12.1"
  }
 },
 "nbformat": 4,
 "nbformat_minor": 2
}
